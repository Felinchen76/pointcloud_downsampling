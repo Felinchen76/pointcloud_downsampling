{
 "cells": [
  {
   "cell_type": "code",
   "id": "initial_id",
   "metadata": {
    "collapsed": true,
    "ExecuteTime": {
     "end_time": "2024-06-06T19:26:36.895908Z",
     "start_time": "2024-06-06T19:26:35.215580Z"
    }
   },
   "source": [
    "#Imports\n",
    "from io import BytesIO\n",
    "import os\n",
    "import open3d as o3d\n",
    "import random\n",
    "import requests\n",
    "import tarfile\n",
    "import numpy as np\n",
    "from scipy.spatial import distance\n",
    "from scipy.spatial.distance import cdist, pdist, squareform"
   ],
   "outputs": [
    {
     "name": "stdout",
     "output_type": "stream",
     "text": [
      "Jupyter environment detected. Enabling Open3D WebVisualizer.\n",
      "[Open3D INFO] WebRTC GUI backend enabled.\n",
      "[Open3D INFO] WebRTCWindowSystem: HTTP handshake server disabled.\n"
     ]
    }
   ],
   "execution_count": 1
  },
  {
   "metadata": {
    "ExecuteTime": {
     "end_time": "2024-06-06T19:26:36.912244Z",
     "start_time": "2024-06-06T19:26:36.896012Z"
    }
   },
   "cell_type": "code",
   "source": [
    "def gromov_wasserstein(pc1: np.ndarray, pc2: np.ndarray) -> float:\n",
    "    def dist_ecc_fast(ecc, u):\n",
    "        return (np.mean(ecc <= u))\n",
    "\n",
    "    out = 0\n",
    "    # Konvertiere die Punktwolken in NumPy-Arrays\n",
    "    pc1 = np.asarray(pc1.points)\n",
    "    pc2 = np.asarray(pc2.points)\n",
    "\n",
    "    # Reshape input matrices if necessary\n",
    "    if pc1.ndim == 1:\n",
    "        pc1 = pc1.reshape(-1, 1)\n",
    "    if pc2.ndim == 1:\n",
    "        pc2 = pc2.reshape(-1, 1)\n",
    "\n",
    "    ecc1 = squareform(pdist(pc1)).mean(0)\n",
    "    ecc2 = squareform(pdist(pc2)).mean(0)\n",
    "    unique_ecc = np.unique(np.concatenate((ecc1, ecc2)))\n",
    "    for i in range(unique_ecc.shape[0] - 1):\n",
    "        u = unique_ecc[i]\n",
    "        out += (unique_ecc[i + 1] - unique_ecc[i]) * np.abs(dist_ecc_fast(ecc1, u) - dist_ecc_fast(ecc2, u))\n",
    "\n",
    "    return (0.5 * out)"
   ],
   "id": "7e1568af12c11b07",
   "outputs": [],
   "execution_count": 2
  },
  {
   "metadata": {
    "ExecuteTime": {
     "end_time": "2024-06-06T19:26:36.929235Z",
     "start_time": "2024-06-06T19:26:36.912244Z"
    }
   },
   "cell_type": "code",
   "source": [
    "def chamfer_distance(pc1: np.ndarray, pc2: np.ndarray) -> float:\n",
    "    dist = cdist(pc1, pc2)\n",
    "    ch_dist = (np.min(dist, axis=1).mean() + np.min(dist, axis=0).mean()) / 2\n",
    "    return ch_dist"
   ],
   "id": "d94821b1effd38a5",
   "outputs": [],
   "execution_count": 3
  },
  {
   "metadata": {
    "ExecuteTime": {
     "end_time": "2024-06-06T19:26:36.942043Z",
     "start_time": "2024-06-06T19:26:36.929235Z"
    }
   },
   "cell_type": "code",
   "source": [
    "def average_ratio(pc1: np.ndarray, pc2: np.ndarray, Dist_list: list) -> float:\n",
    "    d = cdist(pc1, pc2)\n",
    "    d0 = d.min(0)\n",
    "    d1 = d.min(1)\n",
    "\n",
    "    avr = 0\n",
    "    for i, dist in enumerate(Dist_list):\n",
    "        avr += (i + 1) * ((d1 <= dist).sum() / pc1.shape[0] + (d0 <= dist).sum() / pc2.shape[0])\n",
    "    return avr / (len(Dist_list) ** 2 + len(Dist_list))"
   ],
   "id": "53c1b50f63af67ab",
   "outputs": [],
   "execution_count": 4
  },
  {
   "metadata": {
    "ExecuteTime": {
     "end_time": "2024-06-06T19:26:36.958947Z",
     "start_time": "2024-06-06T19:26:36.942043Z"
    }
   },
   "cell_type": "code",
   "source": [
    "def create_pcd_from_mesh(mesh):\n",
    "    mesh.compute_vertex_normals()\n",
    "    o3d.visualization.draw_geometries([mesh])\n",
    "    # distribute dots evenly on the surface\n",
    "    return mesh.sample_points_uniformly(500)"
   ],
   "id": "77f3497eebb98499",
   "outputs": [],
   "execution_count": 5
  },
  {
   "metadata": {
    "ExecuteTime": {
     "end_time": "2024-06-06T19:26:36.977692Z",
     "start_time": "2024-06-06T19:26:36.959077Z"
    }
   },
   "cell_type": "code",
   "source": [
    "def load_model(link, path):\n",
    "    # http://ycb-benchmarks.s3-website-us-east-1.amazonaws.com/\n",
    "    response = requests.get(link)\n",
    "    tgz_data = BytesIO(response.content)\n",
    "    # set the current working directory to the script's directory\n",
    "    script_directory = os.path.dirname(os.path.abspath(__file__))\n",
    "    os.chdir(script_directory)\n",
    "    with tarfile.open(fileobj=tgz_data, mode=\"r:gz\") as tar_ref:\n",
    "        tar_ref.extractall(script_directory)\n",
    "    # join paths\n",
    "    model_path = os.path.join(script_directory, path, \"clouds\", \"merged_cloud.ply\")\n",
    "    # load pointcloud\n",
    "    pcd = o3d.io.read_point_cloud(model_path)\n",
    "    return pcd"
   ],
   "id": "7a14771974f89559",
   "outputs": [],
   "execution_count": 6
  },
  {
   "metadata": {
    "ExecuteTime": {
     "end_time": "2024-06-06T19:26:36.993686Z",
     "start_time": "2024-06-06T19:26:36.977692Z"
    }
   },
   "cell_type": "code",
   "source": [
    "def load_cad_model(model):\n",
    "    # load model generated in freecad\n",
    "    return o3d.io.read_point_cloud(model)"
   ],
   "id": "268acea18c088fe8",
   "outputs": [],
   "execution_count": 7
  },
  {
   "metadata": {
    "ExecuteTime": {
     "end_time": "2024-06-06T19:26:37.010177Z",
     "start_time": "2024-06-06T19:26:36.993686Z"
    }
   },
   "cell_type": "code",
   "source": [
    "def visualize_model(model):\n",
    "    o3d.visualization.draw_geometries([model])"
   ],
   "id": "a6cb10deb5b2cada",
   "outputs": [],
   "execution_count": 8
  },
  {
   "metadata": {
    "ExecuteTime": {
     "end_time": "2024-06-06T19:26:37.026169Z",
     "start_time": "2024-06-06T19:26:37.010177Z"
    }
   },
   "cell_type": "code",
   "source": [
    "def get_num_points(model):\n",
    "    print(len(model.points))"
   ],
   "id": "b24f412aa7c9f798",
   "outputs": [],
   "execution_count": 9
  },
  {
   "metadata": {
    "ExecuteTime": {
     "end_time": "2024-06-06T19:26:37.043724Z",
     "start_time": "2024-06-06T19:26:37.026169Z"
    }
   },
   "cell_type": "code",
   "source": [
    "def create_pointcloud_from_coordinates(coordinates):\n",
    "    # create point cloud with coordinates\n",
    "    pcd = o3d.geometry.PointCloud()\n",
    "    pcd.points = o3d.utility.Vector3dVector(coordinates)\n",
    "    return pcd"
   ],
   "id": "9d07c2e658e06523",
   "outputs": [],
   "execution_count": 10
  },
  {
   "metadata": {
    "ExecuteTime": {
     "end_time": "2024-06-06T19:26:37.057350Z",
     "start_time": "2024-06-06T19:26:37.043924Z"
    }
   },
   "cell_type": "code",
   "source": [
    "def get_coordinates(model):\n",
    "    coordinates = [list(point) for point in model.points]\n",
    "    # print(coordinates[:50])\n",
    "    return coordinates"
   ],
   "id": "dcdc0ec299624eba",
   "outputs": [],
   "execution_count": 11
  },
  {
   "metadata": {
    "ExecuteTime": {
     "end_time": "2024-06-06T19:26:37.073342Z",
     "start_time": "2024-06-06T19:26:37.057350Z"
    }
   },
   "cell_type": "code",
   "source": [
    "def random_downsampling(model, endpoints):\n",
    "    # get coordinates of the models\n",
    "    coordinates = get_coordinates(model)\n",
    "    # select random points for downsampling\n",
    "    for i in range(len(coordinates) - endpoints):\n",
    "        rannumb = random.randint(0, len(coordinates) - 1)\n",
    "        del coordinates[rannumb]\n",
    "    point_cloud = create_pointcloud_from_coordinates(coordinates)\n",
    "    return point_cloud"
   ],
   "id": "2052f3d3ed6ad35a",
   "outputs": [],
   "execution_count": 12
  },
  {
   "metadata": {
    "ExecuteTime": {
     "end_time": "2024-06-06T19:26:37.089685Z",
     "start_time": "2024-06-06T19:26:37.073342Z"
    }
   },
   "cell_type": "code",
   "source": [
    "def farthest_point_sampling(model, num_points_keep):\n",
    "    coordinates = np.array(get_coordinates(model))\n",
    "    retVal = []\n",
    "    # to make runs comparable\n",
    "    random.seed(13)\n",
    "    # generate \"random\" int\n",
    "    randint = random.randint(0, len(coordinates) - 1)\n",
    "    # select random point from model\n",
    "    retVal.append(coordinates[randint])\n",
    "    # delete chosen point from original model after it was added to the downsampled cloud\n",
    "    coordinates = np.delete(coordinates, randint, axis=0)\n",
    "    while len(retVal) < num_points_keep:\n",
    "        # Berechne die euklidischen Distanzen der ausgewählten Punkte zu den verbleibenden Punkten\n",
    "        eucl_distances = distance.cdist(retVal, coordinates, 'euclidean')\n",
    "        # Finden Sie den Punkt mit der größten Mindestdistanz\n",
    "        min_mindist = np.min(eucl_distances, axis=0)\n",
    "        # Finden Sie den Index des Punktes mit der größten Mindestdistanz\n",
    "        max_min_distance_index = np.argmax(min_mindist)\n",
    "        # Fügen Sie den am weitesten entfernten Punkt der Liste hinzu\n",
    "        retVal.append(coordinates[max_min_distance_index])\n",
    "        # Entfernen Sie den ausgewählten Punkt aus den verbleibenden Koordinaten\n",
    "        coordinates = np.delete(coordinates, max_min_distance_index, axis=0)\n",
    "    return create_pointcloud_from_coordinates(np.array(retVal))"
   ],
   "id": "c93a96564378e9f4",
   "outputs": [],
   "execution_count": 13
  },
  {
   "metadata": {
    "ExecuteTime": {
     "end_time": "2024-06-06T19:26:37.109791Z",
     "start_time": "2024-06-06T19:26:37.089685Z"
    }
   },
   "cell_type": "code",
   "source": [
    "# built in function von open3d?\n",
    "def radius_outlier_removal_call(model):\n",
    "    return model.remove_radius_outlier(nb_points=5, radius=0.05)"
   ],
   "id": "42dd39bb15f7e3e1",
   "outputs": [],
   "execution_count": 14
  },
  {
   "metadata": {
    "ExecuteTime": {
     "end_time": "2024-06-06T19:26:37.130887Z",
     "start_time": "2024-06-06T19:26:37.111180Z"
    }
   },
   "cell_type": "code",
   "source": [
    "# add noise to pointcloud\n",
    "def add_noise(model, noisiness):\n",
    "    points = np.asarray(model.points)\n",
    "    noise = np.random.normal(0, noisiness, size=points.shape)\n",
    "    noisy_points = points + noise\n",
    "\n",
    "    noisy_pc = o3d.geometry.PointCloud()\n",
    "    noisy_pc.points = o3d.utility.Vector3dVector(noisy_points)\n",
    "    return noisy_pc"
   ],
   "id": "4b8175616d52ffb4",
   "outputs": [],
   "execution_count": 15
  },
  {
   "metadata": {
    "ExecuteTime": {
     "end_time": "2024-06-06T19:26:37.147557Z",
     "start_time": "2024-06-06T19:26:37.131388Z"
    }
   },
   "cell_type": "code",
   "source": [
    "# with median -> aggregation method as parameter??\n",
    "def create_voxel_grid(model, voxel_size):\n",
    "    model_points = np.array(get_coordinates(model))\n",
    "    min_bound = np.min(model_points, axis=0)\n",
    "    max_bound = np.max(model_points, axis=0)\n",
    "\n",
    "    dimensions = np.ceil((max_bound - min_bound) / voxel_size).astype(int)\n",
    "\n",
    "    voxelgrid = np.zeros(dimensions)\n",
    "\n",
    "    for point in model_points:\n",
    "        voxel_coordinates = ((point - min_bound) / voxel_size).astype(int)\n",
    "        # -1 needed in order to avoid index out of bounds\n",
    "        voxelgrid[tuple(voxel_coordinates - 1)] += 1\n",
    "    # visualize voxel grid to check if its correct\n",
    "    # convert voxelgrid to open3d Voxelgrid\n",
    "    o3d_voxelgrid = o3d.geometry.VoxelGrid.create_from_point_cloud(input=model, voxel_size=voxel_size)\n",
    "    #o3d.visualization.draw_geometries([o3d_voxelgrid])\n",
    "    return o3d_voxelgrid\n",
    "\n",
    "\n",
    "def voxel_filter(model, voxelgrid, voxel_size):\n",
    "    # list where downsampled points will be saved\n",
    "    downsampled_points = []\n",
    "    # iterate over all voxel in the voxelgrid\n",
    "    for voxel in voxelgrid.get_voxels():\n",
    "        # get bounds of the voxel\n",
    "        downsampled_points.extend(is_point_in_voxel(model, voxelgrid, voxel, voxel_size))\n",
    "    downsampled_points = np.asarray(downsampled_points)\n",
    "    return o3d.utility.Vector3dVector(downsampled_points)\n",
    "\n",
    "\n",
    "def aggregate_points(points):\n",
    "    # Aggregate the points by averaging, taking into account the z coordinate\n",
    "    if len(points) == 0:\n",
    "        return points\n",
    "    aggregated_points = []\n",
    "    aggregated_points.append(np.mean(points, axis=0))\n",
    "    return aggregated_points\n",
    "\n",
    "\n",
    "def is_point_in_voxel(model, voxelgrid, voxel, voxel_size):\n",
    "    # get center point and see whether a point lies within the given distance/2 of the voxel size from the center\n",
    "    voxel_center = voxelgrid.get_voxel_center_coordinate(voxel.grid_index)\n",
    "    points_in_voxel = []\n",
    "    half_size = voxel_size / 2.0\n",
    "    # Überprüfe, welche Punkte innerhalb des Voxels liegen\n",
    "    for point in model.points:\n",
    "        if np.all(np.abs(point - voxel_center) <= half_size):\n",
    "            points_in_voxel.append(point)\n",
    "    points_in_voxel = aggregate_points(points_in_voxel)\n",
    "    # print(points_in_voxel)\n",
    "    return points_in_voxel\n",
    "\n",
    "def create_points_from_voxel(voxel_model):\n",
    "    # Vektoren in Numpy Array konvertieren\n",
    "    vector_array = np.asarray(voxel_model)\n",
    "    \n",
    "    # Open3D Punktewolke erstellen\n",
    "    point_cloud = o3d.geometry.PointCloud()\n",
    "    point_cloud.points = o3d.utility.Vector3dVector(vector_array)\n",
    "    \n",
    "    return point_cloud\n"
   ],
   "id": "d80e628c3ec6ce94",
   "outputs": [],
   "execution_count": 16
  },
  {
   "metadata": {
    "ExecuteTime": {
     "end_time": "2024-06-06T20:14:40.120903Z",
     "start_time": "2024-06-06T20:14:40.091298Z"
    }
   },
   "cell_type": "code",
   "source": [
    "def point_cloud_to_ply(point_cloud, file_name): \n",
    "    # safe downsampled point cloud as ply data\n",
    "    file_name = \"point_cloud_images/\"+file_name+\".ply\"\n",
    "    if os.path.exists(\"point_cloud_images/\"+file_name):\n",
    "        os.remove(file_name)\n",
    "    o3d.io.write_point_cloud(file_name, o3d.geometry.PointCloud(point_cloud.points))"
   ],
   "id": "efa529414d46c342",
   "outputs": [],
   "execution_count": 52
  },
  {
   "metadata": {
    "ExecuteTime": {
     "end_time": "2024-06-06T19:26:37.172260Z",
     "start_time": "2024-06-06T19:26:37.158352Z"
    }
   },
   "cell_type": "code",
   "source": [
    "import logging\n",
    "# Logging\n",
    "logging.basicConfig(filename='downsampling.log', level=logging.INFO, format='%(asctime)s - %(message)s')\n",
    "\n",
    "# Pfad zum Speichern der Bilder\n",
    "output_dir = 'point_cloud_images'\n",
    "os.makedirs(output_dir, exist_ok=True)\n",
    "#except Exception as e: logging.error(f'Iteration {i+1}: Fehler aufgetreten - {e}')"
   ],
   "id": "af108f8c60310f46",
   "outputs": [],
   "execution_count": 18
  },
  {
   "metadata": {
    "ExecuteTime": {
     "end_time": "2024-06-06T19:26:37.504282Z",
     "start_time": "2024-06-06T19:26:37.172260Z"
    }
   },
   "cell_type": "code",
   "source": [
    "# to do lege die Bilder mit relaitven Pfad im Repo an!\n",
    "cone = load_cad_model(r\"cone.ply\")\n",
    "sphere = load_cad_model(r\"sphere.ply\")\n",
    "cube = load_cad_model(r\"cube.ply\")\n",
    "complex_cube = load_cad_model(r\"complexCube.ply\")\n",
    "complex_cone = load_cad_model(r\"hollowCone.ply\")\n",
    "complex_sphere = load_cad_model(r\"complexSphere.ply\")\n",
    "pencil = load_cad_model(r\"pencil_fein.ply\")\n",
    "# source: https://sketchfab.com/3d-models/davis-teapot-materialcleanup-547971eaf21d43f2b6cfcb6be0e7bf11\n",
    "teapot = load_cad_model(r\"teapot.ply\")\n",
    "# source: https://sketchfab.com/3d-models/book-ba04f5ac66194341bc7d437fb6c94674\n",
    "book = load_cad_model(r\"book.ply\")"
   ],
   "id": "fb44a471c057b4a8",
   "outputs": [],
   "execution_count": 19
  },
  {
   "metadata": {
    "ExecuteTime": {
     "end_time": "2024-06-06T19:26:41.311763Z",
     "start_time": "2024-06-06T19:26:37.504282Z"
    }
   },
   "cell_type": "code",
   "source": [
    "visualize_model(teapot)\n",
    "visualize_model(pencil)"
   ],
   "id": "185894f6f41cb3a3",
   "outputs": [],
   "execution_count": 20
  },
  {
   "metadata": {
    "ExecuteTime": {
     "end_time": "2024-06-06T19:26:41.337598Z",
     "start_time": "2024-06-06T19:26:41.319633Z"
    }
   },
   "cell_type": "code",
   "source": "# Laufzeittests",
   "id": "a76bff8c2991f0fb",
   "outputs": [],
   "execution_count": 21
  },
  {
   "metadata": {
    "ExecuteTime": {
     "end_time": "2024-06-06T19:26:41.364074Z",
     "start_time": "2024-06-06T19:26:41.338590Z"
    }
   },
   "cell_type": "code",
   "source": [
    "from open3d.examples.open3d_example import draw_registration_result\n",
    "# Auswertung ICP\n",
    "# Transformiere die Ziel-Punktwolke zur besseren Demonstration\n",
    "# ich kann hier auch meine Matplotlib Implementierung verwenden!\n",
    "def icp_algorithm(source, target):\n",
    "    # Transformierung der Target Punktewolke\n",
    "    transformation = np.array([[0.86, 0.5, 0.1, 0.5],\n",
    "                               [-0.5, 0.86, 0.1, 0.5],\n",
    "                               [0.0, -0.1, 0.99, 0.5],\n",
    "                               [0.0, 0.0, 0.0, 1.0]])\n",
    "    target = target.transform(transformation)\n",
    "    \n",
    "    # ICP-Algorithmus ausführen\n",
    "    threshold = 0.01  # Maximale Entfernung für die Zuordnung von Punkten\n",
    "    initial_transformation = np.identity(4)  # Initiale Schätzung der Transformation\n",
    "    \n",
    "    # Open3D ICP Algorithmus\n",
    "    reg_p2p = o3d.pipelines.registration.registration_icp(\n",
    "        source, target, threshold, initial_transformation,\n",
    "        o3d.pipelines.registration.TransformationEstimationPointToPoint())\n",
    "    \n",
    "    # Ergebnis grafisch ausgeben lassen\n",
    "    draw_registration_result(source, target, reg_p2p.transformation)\n",
    "    \n",
    "    # evaluierung wie gut der ICP lief\n",
    "    evaluation = o3d.pipelines.registration.evaluate_registration(\n",
    "    source, target, threshold, transformation)\n",
    "    print(evaluation)\n"
   ],
   "id": "acbc5ea2a52a8d36",
   "outputs": [],
   "execution_count": 22
  },
  {
   "metadata": {
    "ExecuteTime": {
     "end_time": "2024-06-06T19:26:41.377203Z",
     "start_time": "2024-06-06T19:26:41.369907Z"
    }
   },
   "cell_type": "code",
   "source": "# Stabilitätstest",
   "id": "b0b94344107c5c49",
   "outputs": [],
   "execution_count": 23
  },
  {
   "metadata": {
    "ExecuteTime": {
     "end_time": "2024-06-06T20:23:04.572307Z",
     "start_time": "2024-06-06T20:23:03.479036Z"
    }
   },
   "cell_type": "code",
   "source": [
    "import time\n",
    "\n",
    "#Test für Stabilität der Ergebnisse\n",
    "# Anzahl der Wiederholungen\n",
    "# Konfiguration des Loggings\n",
    "log_filename = 'downsampling.log'\n",
    "#if os.path.exists(log_filename):\n",
    "  #  os.remove(log_filename)\n",
    "    \n",
    "logging.basicConfig(\n",
    "    filename=log_filename,\n",
    "    filemode='w',\n",
    "    level=logging.INFO,\n",
    "    format='%(asctime)s - %(levelname)s - %(message)s'\n",
    ")\n",
    "\n",
    "\n",
    "num_iterations = 1\n",
    "output_dir_pc = 'point_cloud_images'\n",
    "os.makedirs(output_dir, exist_ok=True)\n",
    "\n",
    "model_array = [cube]\n",
    "#, sphere, cone]\n",
    "#, complex_cone, complex_cube, complex_sphere, pencil, teapot, book]\n",
    "for model in model_array:\n",
    "    for i in range(num_iterations):\n",
    "        try:\n",
    "                #random downsampling\n",
    "                method = \"random_downsampling\"\n",
    "                start = time.time()\n",
    "                rd = random_downsampling(model, int(len(model.points)/10 * 4))\n",
    "                end = time.time()\n",
    "                elapsed_time = end - start\n",
    "                logging.info(f'Random Downsampling - Iteration {i+1}: Downsampling durchgeführt, verbleibende Punkte: {len(rd.points)},      Rechenzeit: {elapsed_time:.4f} Sekunden')\n",
    "                # Bildspeicherung! -> nachschauen was durch das Reshapen hier passiert!\n",
    "                point_cloud_to_ply(rd, \"random_downsampling\"+str(i+1))   \n",
    "                \n",
    "                # voxelgrid\n",
    "                method = \"voxelgrid filter\"\n",
    "                start = time.time()\n",
    "                vx_grid = create_voxel_grid(model, 0.2)\n",
    "                vx = voxel_filter(model, vx_grid, 0.7)\n",
    "                end = time.time()\n",
    "                elapsed_time = end - start\n",
    "                print(elapsed_time)\n",
    "                logging.info(f'Voxel Downsampling - Iteration {i+1}: Downsampling durchgeführt, verbleibende Punkte: {len(vx)},      Rechenzeit: {elapsed_time:.4f} Sekunden')\n",
    "                # Bildspeicherung! -> nachschauen was durch das Reshapen hier passiert!\n",
    "                vx_pc = o3d.geometry.PointCloud()\n",
    "                vx_pc.points = o3d.utility.Vector3dVector(np.asarray(vx))\n",
    "                point_cloud_to_ply(vx_pc, \"voxel_filter\"+str(i+1))\n",
    "                \n",
    "                # farthest point downsampling\n",
    "                method = \"farthest point downsampling\"\n",
    "                start = time.time()\n",
    "                fp= farthest_point_sampling(model,int(len(model.points)/10 * 4))\n",
    "                end = time.time()\n",
    "                fp_pc = o3d.geometry.PointCloud()\n",
    "                fp_pc.points = o3d.utility.Vector3dVector(np.asarray(fp.points))\n",
    "                elapsed_time = end - start\n",
    "                logging.info(f'Farthest Point Downsampling - Iteration {i+1}: Downsampling durchgeführt, verbleibende Punkte: {len(fp_pc.points)}, Rechenzeit: {elapsed_time:.4f} Sekunden')\n",
    "                # Bildspeicherung! -> nachschauen was durch das Reshapen hier passiert!\n",
    "                point_cloud_to_ply(fp_pc, \"farthest_point_downsampling\"+str(i+1))\n",
    "        except Exception as e:\n",
    "            logging.error(f'Iteration {i+1} , Methode {method}: Fehler aufgetreten- {e}')\n",
    "\n",
    "logging.info('Alle Iterationen abgeschlossen.') "
   ],
   "id": "6bf2b56f8cde679b",
   "outputs": [
    {
     "name": "stdout",
     "output_type": "stream",
     "text": [
      "1.0434951782226562\n"
     ]
    }
   ],
   "execution_count": 60
  },
  {
   "metadata": {
    "ExecuteTime": {
     "end_time": "2024-06-06T20:12:40.291688Z",
     "start_time": "2024-06-06T20:12:07.087112Z"
    }
   },
   "cell_type": "code",
   "source": [
    "fp = farthest_point_sampling(sphere,int(len(sphere.points)/10 * 4))\n",
    "fp_pc = o3d.geometry.PointCloud()\n",
    "fp_pc.points = o3d.utility.Vector3dVector(np.asarray(fp.points))\n",
    "point_cloud_to_ply(fp_pc,\"jetztgehbitte\")"
   ],
   "id": "8cba83dcb015604a",
   "outputs": [],
   "execution_count": 50
  },
  {
   "metadata": {},
   "cell_type": "markdown",
   "source": "Sphere Test",
   "id": "e2d6a6e13e85efb2"
  },
  {
   "metadata": {},
   "cell_type": "code",
   "source": [
    "visualize_model(sphere)\n",
    "# random downsampling\n",
    "sphere_rd= random_downsampling(sphere, int(len(sphere.points)/10 * 4))\n",
    "sphere_rd_pc = o3d.geometry.PointCloud()\n",
    "sphere_rd_pc.points = o3d.utility.Vector3dVector(np.asarray(sphere_rd.points))\n",
    "icp_algorithm(sphere, sphere_rd_pc) # stimmt es hier die Punktewolken so zu nehmen?\n",
    "#RegistrationResult with fitness=3.998821e-01, inlier_rmse=0.000000e+00, and correspondence_set size of 2035\n",
    "# voxel grid filter\n",
    "sphere_voxel_grid = create_voxel_grid(sphere, 0.2)\n",
    "sphere_voxel_pc = o3d.geometry.PointCloud()\n",
    "sphere_voxel_pc.points = voxel_filter(sphere, sphere_voxel_grid,0.2)\n",
    "icp_algorithm(sphere_voxel_pc,sphere)\n",
    "#RegistrationResult with fitness=1.000000e+00, inlier_rmse=0.000000e+00, and correspondence_set size of 5089\n",
    "# farthest point downsampling\n",
    "sphere_fp = farthest_point_sampling(sphere,int(len(sphere.points)/10 * 4))\n",
    "sphere_fp_pc = o3d.geometry.PointCloud()\n",
    "sphere_fp_pc.points = o3d.utility.Vector3dVector(np.asarray(sphere_fp.points))\n",
    "icp_algorithm(sphere, sphere_fp_pc)\n",
    "#RegistrationResult with fitness=3.998821e-01, inlier_rmse=0.000000e+00, and correspondence_set size of 2035"
   ],
   "id": "f2ae2791168b938f",
   "outputs": [],
   "execution_count": null
  },
  {
   "metadata": {},
   "cell_type": "markdown",
   "source": "Complex Sphere Test",
   "id": "c357b9fee2f37311"
  },
  {
   "metadata": {},
   "cell_type": "code",
   "source": [
    "visualize_model(complex_sphere)\n",
    "complex_sphere_rd= random_downsampling(complex_sphere, int(len(complex_sphere.points)/10 * 2))\n",
    "icp_algorithm(complex_sphere,complex_sphere_rd) # nehme ich hier bei beiden die gedownsamplete Punktewolke?\n",
    "#RegistrationResult with fitness=2.000000e-01, inlier_rmse=0.000000e+00, and correspondence_set size of 244\n",
    "# voxel grid filter\n",
    "complex_sphere_voxel_grid = create_voxel_grid(complex_sphere, 0.2)\n",
    "complex_sphere_voxel_pc = o3d.geometry.PointCloud()\n",
    "complex_sphere_voxel_pc.points = voxel_filter(complex_sphere, complex_sphere_voxel_grid,0.2)\n",
    "icp_algorithm(complex_sphere_voxel_pc,complex_sphere)\n",
    "#RegistrationResult with fitness=1.000000e+00, inlier_rmse=0.000000e+00, and correspondence_set size of 1220\n",
    "# farthest point downsampling\n",
    "complex_sphere_fp = farthest_point_sampling(complex_sphere,int(len(complex_sphere.points)/10 * 4))\n",
    "complex_sphere_fp_pc = o3d.geometry.PointCloud()\n",
    "complex_sphere_fp_pc.points = o3d.utility.Vector3dVector(np.asarray(complex_sphere_fp.points))\n",
    "icp_algorithm(complex_sphere, complex_sphere_fp_pc)\n",
    "#RegistrationResult with fitness=4.000000e-01, inlier_rmse=0.000000e+00, and correspondence_set size of 488"
   ],
   "id": "8762ed4263a3467",
   "outputs": [],
   "execution_count": null
  },
  {
   "metadata": {},
   "cell_type": "markdown",
   "source": "Teapot Test",
   "id": "d81fa780ef2c4d46"
  },
  {
   "metadata": {},
   "cell_type": "code",
   "source": [
    "visualize_model(teapot)\n",
    "# random downsampling\n",
    "teapot_rd= random_downsampling(teapot, int(len(teapot.points)/10 * 2))\n",
    "icp_algorithm(teapot, teapot_rd) # nehme ich hier bei beiden die gedownsamplete Punktewolke?\n",
    "#RegistrationResult with fitness=7.348961e-01, inlier_rmse=2.310666e-04, and correspondence_set size of 9123\n",
    "# voxel grid filter\n",
    "teapot_voxel_grid = create_voxel_grid(teapot, 0.2)\n",
    "teapot_voxel_pc = o3d.geometry.PointCloud()\n",
    "teapot_voxel_pc.points = voxel_filter(teapot, teapot_voxel_grid,0.2)\n",
    "icp_algorithm(teapot_voxel_pc,teapot)\n",
    "#egistrationResult with fitness=6.467433e-01, inlier_rmse=7.301364e-04, and correspondence_set size of 844\n",
    "# farthest point downsampling\n",
    "teapot_fp = farthest_point_sampling(teapot,int(len(teapot.points)/10 * 4))\n",
    "teapot_fp_pc = o3d.geometry.PointCloud()\n",
    "teapot_fp_pc.points = o3d.utility.Vector3dVector(np.asarray(teapot_fp.points))\n",
    "icp_algorithm(teapot, teapot_fp_pc)\n",
    "#RegistrationResult with fitness=1.000000e+00, inlier_rmse=0.000000e+00, and correspondence_set size of 12414"
   ],
   "id": "94ecfbb187699953",
   "outputs": [],
   "execution_count": null
  },
  {
   "metadata": {},
   "cell_type": "markdown",
   "source": "Cube",
   "id": "abd0642e0e25ed56"
  },
  {
   "metadata": {},
   "cell_type": "code",
   "source": [
    "visualize_model(cube)\n",
    "# random downsampling\n",
    "cube_rd= random_downsampling(cube, int(len(cube.points)/10 * 4))\n",
    "icp_algorithm(cube, cube_rd) # nehme ich hier bei beiden die gedownsamplete Punktewolke?\n",
    "#RegistrationResult with fitness=4.000000e-01, inlier_rmse=0.000000e+00, and correspondence_set size of 166\n",
    "# voxel grid filter\n",
    "cube_voxel_grid = create_voxel_grid(cube, 0.2)\n",
    "cube_voxel_pc = o3d.geometry.PointCloud()\n",
    "cube_voxel_pc.points = voxel_filter(cube, cube_voxel_grid,0.2)\n",
    "icp_algorithm(cube_voxel_pc,cube)\n",
    "#RegistrationResult with fitness=1.000000e+00, inlier_rmse=0.000000e+00, and correspondence_set size of 415\n",
    "# farthest point downsampling\n",
    "cube_fp = farthest_point_sampling(cube,int(len(cube.points)/10 * 4))\n",
    "cube_fp_pc = o3d.geometry.PointCloud()\n",
    "cube_fp_pc.points = o3d.utility.Vector3dVector(np.asarray(cube_fp.points))\n",
    "icp_algorithm(cube, cube_fp_pc)\n",
    "#RegistrationResult with fitness=4.000000e-01, inlier_rmse=0.000000e+00, and correspondence_set size of 166"
   ],
   "id": "6cccabad7cfa5303",
   "outputs": [],
   "execution_count": null
  },
  {
   "metadata": {},
   "cell_type": "markdown",
   "source": "Complex Cube",
   "id": "2ffebe5db67beab4"
  },
  {
   "metadata": {},
   "cell_type": "code",
   "source": [
    "visualize_model(complex_cube)\n",
    "# Random Downsampling\n",
    "complex_cube_rd= random_downsampling(complex_cube, int(len(complex_cube.points)/10 * 2))\n",
    "icp_algorithm(complex_cube, complex_cube_rd) # nehme ich hier bei beiden die gedownsamplete Punktewolke?\n",
    "#RegistrationResult with fitness=1.999208e-01, inlier_rmse=0.000000e+00, and correspondence_set size of 1514\n",
    "# voxel grid filter\n",
    "complex_cube_voxel_grid = create_voxel_grid(complex_cube, 0.2)\n",
    "complex_cube_voxel_pc = o3d.geometry.PointCloud()\n",
    "complex_cube_voxel_pc.points = voxel_filter(complex_cube, complex_cube_voxel_grid,0.2)\n",
    "icp_algorithm(complex_cube_voxel_pc,complex_cube)\n",
    "#RegistrationResult with fitness=1.000000e+00, inlier_rmse=0.000000e+00, and correspondence_set size of 7566\n",
    "# farthest point downsampling\n",
    "complex_cube_fp = farthest_point_sampling(complex_cube,int(len(complex_cube.points)/10 * 4))\n",
    "complex_cube_fp_pc = o3d.geometry.PointCloud()\n",
    "complex_cube_fp_pc.points = o3d.utility.Vector3dVector(np.asarray(complex_cube_fp.points))\n",
    "icp_algorithm(complex_cube, complex_cube_fp_pc)\n",
    "#RegistrationResult with fitness=3.999736e-01, inlier_rmse=0.000000e+00, and correspondence_set size of 3029"
   ],
   "id": "dc6b42063e17bc2",
   "outputs": [],
   "execution_count": null
  },
  {
   "metadata": {},
   "cell_type": "markdown",
   "source": "Book",
   "id": "1ca6b918f45787e0"
  },
  {
   "metadata": {},
   "cell_type": "code",
   "source": [
    "visualize_model(book)\n",
    "# Random Downsampling\n",
    "book_rd= random_downsampling(book, int(len(book.points)/10 * 2))\n",
    "icp_algorithm(book, book_rd) # nehme ich hier bei beiden die gedownsamplete Punktewolke?\n",
    "#RegistrationResult with fitness=2.000058e-01, inlier_rmse=4.281361e-05, and correspondence_set size of 27746\n",
    "# voxel grid filter\n",
    "book_voxel_grid = create_voxel_grid(book, 0.2)\n",
    "book_voxel_pc = o3d.geometry.PointCloud()\n",
    "book_voxel_pc.points = voxel_filter(book, book_voxel_grid,0.2)\n",
    "icp_algorithm(book_voxel_pc,book)\n",
    "#RegistrationResult with fitness=1.000000e+00, inlier_rmse=0.000000e+00, and correspondence_set size of 1220\n",
    "# farthest point downsampling\n",
    "book_fp = farthest_point_sampling(book,int(len(book.points)/10 * 4))\n",
    "book_fp_pc = o3d.geometry.PointCloud()\n",
    "book_fp_pc.points = o3d.utility.Vector3dVector(np.asarray(book_fp.points))\n",
    "icp_algorithm(book, book_fp_pc)"
   ],
   "id": "6f80c7a06349ff6b",
   "outputs": [],
   "execution_count": null
  },
  {
   "metadata": {},
   "cell_type": "markdown",
   "source": "Cone",
   "id": "1e2cc3ed17b774dd"
  },
  {
   "metadata": {},
   "cell_type": "code",
   "source": [
    "visualize_model(cone)\n",
    "cone_rd= random_downsampling(cone, int(len(cone.points)/10 * 2))\n",
    "#sphere_rd = point_cloud_to_ply(sphere_rd_pc, \"sphere_rd.ply\")\n",
    "icp_algorithm(cone, cone_rd) # nehme ich hier bei beiden die gedownsamplete Punktewolke?\n",
    "\n",
    "# voxel grid filter\n",
    "cone_voxel_grid = create_voxel_grid(cone, 0.2)\n",
    "cone_voxel_pc = o3d.geometry.PointCloud()\n",
    "cone_voxel_pc.points = voxel_filter(cone, cone_voxel_grid,0.2)\n",
    "icp_algorithm(cone_voxel_pc,cone)\n",
    "#RegistrationResult with fitness=1.000000e+00, inlier_rmse=0.000000e+00, and correspondence_set size of 1220\n",
    "# farthest point downsampling\n",
    "cone_fp = farthest_point_sampling(cone,int(len(cone.points)/10 * 4))\n",
    "cone_fp_pc = o3d.geometry.PointCloud()\n",
    "cone_fp_pc.points = o3d.utility.Vector3dVector(np.asarray(cone_fp.points))\n",
    "icp_algorithm(cone, cone_fp_pc)"
   ],
   "id": "b1e61564b25655b9",
   "outputs": [],
   "execution_count": null
  },
  {
   "metadata": {},
   "cell_type": "markdown",
   "source": "Complex Cone",
   "id": "ec5feb99c3f7de53"
  },
  {
   "metadata": {},
   "cell_type": "code",
   "source": [
    "visualize_model(complex_cone)\n",
    "complex_cone_rd= random_downsampling(complex_cone, int(len(complex_cone.points)/10 * 2))\n",
    "icp_algorithm(complex_cone, complex_cone_rd) # nehme ich hier bei beiden die gedownsamplete Punktewolke?\n",
    "\n",
    "# voxel grid filter\n",
    "complex_cone_voxel_grid = create_voxel_grid(complex_cone, 0.2)\n",
    "complex_cone_voxel_pc = o3d.geometry.PointCloud()\n",
    "complex_cone_voxel_pc.points = voxel_filter(complex_cone, complex_cone_voxel_grid,0.2)\n",
    "icp_algorithm(complex_cone_voxel_pc,complex_cone)\n",
    "#RegistrationResult with fitness=1.000000e+00, inlier_rmse=0.000000e+00, and correspondence_set size of 1220\n",
    "# farthest point downsampling\n",
    "complex_cone_fp = farthest_point_sampling(complex_cone,int(len(complex_cone.points)/10 * 4))\n",
    "complex_cone_fp_pc = o3d.geometry.PointCloud()\n",
    "complex_cone_fp_pc.points = o3d.utility.Vector3dVector(np.asarray(complex_cone_fp.points))\n",
    "icp_algorithm(complex_cone, complex_cone_fp_pc)"
   ],
   "id": "1563a18c71627b21",
   "outputs": [],
   "execution_count": null
  },
  {
   "metadata": {},
   "cell_type": "markdown",
   "source": "Pencil",
   "id": "372002a393092b3e"
  },
  {
   "metadata": {},
   "cell_type": "code",
   "source": [
    "visualize_model(pencil)\n",
    "pencil_rd= random_downsampling(pencil, int(len(pencil.points)/10 * 2))\n",
    "icp_algorithm(pencil, pencil_rd) # nehme ich hier bei beiden die gedownsamplete Punktewolke?\n",
    "# voxel grid filter\n",
    "pencil_voxel_grid = create_voxel_grid(pencil, 0.2)\n",
    "pencil_voxel_pc = o3d.geometry.PointCloud()\n",
    "pencil_voxel_pc.points = voxel_filter(pencil, pencil_voxel_grid,0.2)\n",
    "icp_algorithm(pencil_voxel_pc,pencil)\n",
    "#RegistrationResult with fitness=1.000000e+00, inlier_rmse=0.000000e+00, and correspondence_set size of 1220\n",
    "# farthest point downsampling\n",
    "pencil_fp = farthest_point_sampling(pencil,int(len(pencil.points)/10 * 4))\n",
    "pencil_fp_pc = o3d.geometry.PointCloud()\n",
    "pencil_fp_pc.points = o3d.utility.Vector3dVector(np.asarray(pencil_fp.points))\n",
    "icp_algorithm(pencil, pencil_fp_pc)"
   ],
   "id": "8701ea8f4a19301a",
   "outputs": [],
   "execution_count": null
  },
  {
   "metadata": {},
   "cell_type": "markdown",
   "source": "Noisiness test basic models",
   "id": "b3915e0c231b90ca"
  },
  {
   "metadata": {},
   "cell_type": "code",
   "source": [
    "model_array = [sphere,cube,cone]\n",
    "for model in model_array:\n",
    "    # create noisy pointclouds\n",
    "    noisy_model= add_noise(model,1.3)\n",
    "    visualize_model(noisy_model)\n",
    "    visualize_model(random_downsampling(noisy_model,int(len(noisy_model.points)/10 * 4)))\n",
    "   \n",
    "    # voxel grid filter\n",
    "    noisy_model_grid = create_voxel_grid(noisy_model, 0.2)\n",
    "    noisy_model_voxel_pc = o3d.geometry.PointCloud()\n",
    "    noisy_model_voxel_pc.points = voxel_filter(noisy_model, noisy_model_grid,0.2)\n",
    "    \n",
    "    # farthest point downsampling\n",
    "    noisy_model_fp = farthest_point_sampling(noisy_model,int(len(noisy_model.points)/10 * 4))\n",
    "    noisy_model_fp_pc = o3d.geometry.PointCloud()\n",
    "    noisy_model_fp_pc.points = o3d.utility.Vector3dVector(np.asarray(noisy_model_fp.points))\n",
    "    visualize_model(noisy_model_fp_pc)\n",
    "    "
   ],
   "id": "8d66fc758daa7984",
   "outputs": [],
   "execution_count": null
  },
  {
   "metadata": {},
   "cell_type": "markdown",
   "source": "noisiness tests complex models",
   "id": "4614eecfb0cb5f76"
  },
  {
   "metadata": {},
   "cell_type": "code",
   "source": [
    "model_array = [complex_sphere,complex_cube,complex_cone]\n",
    "for complex_model in model_array:\n",
    "\n",
    "    noisy_complex_model =add_noise(complex_model,1.3)\n",
    "    visualize_model(noisy_complex_model)\n",
    "    visualize_model(random_downsampling(noisy_complex_model,int(len(noisy_complex_model.points)/10 * 4)))\n",
    "\n",
    "    noisy_complex_model_grid = create_voxel_grid(noisy_complex_model, 0.2)\n",
    "    noisy_complex_model_voxel_pc = o3d.geometry.PointCloud()\n",
    "    noisy_complex_model_voxel_pc.points = voxel_filter(noisy_complex_model, noisy_complex_model_grid,0.2)\n",
    "\n",
    "    noisy_complex_model_fp = farthest_point_sampling(noisy_complex_model,int(len(noisy_complex_model.points)/10 * 4))\n",
    "    noisy_complex_model_fp_pc = o3d.geometry.PointCloud()\n",
    "    noisy_complex_model_fp_pc.points = o3d.utility.Vector3dVector(np.asarray(noisy_complex_model_fp.points))\n",
    "    visualize_model(noisy_complex_model_fp_pc)"
   ],
   "id": "c8bbfb52eaf0dd2d",
   "outputs": [],
   "execution_count": null
  },
  {
   "metadata": {},
   "cell_type": "markdown",
   "source": "noisiness tests objects",
   "id": "8a7a286ea5d1bbce"
  },
  {
   "metadata": {},
   "cell_type": "code",
   "source": [
    "model_array = [teapot,book,pencil]\n",
    "# create noisy object pointclouds\n",
    "for model_object in model_array:\n",
    "        \n",
    "    # random downsampling\n",
    "    noisy_model_object = add_noise(model_object,0.1)\n",
    "    visualize_model(noisy_model_object)\n",
    "    visualize_model(random_downsampling(noisy_model_object, int(len(noisy_model_object.points)/10 * 4)))\n",
    "    \n",
    "    # voxel grid filter\n",
    "    noisy_model_object_grid = create_voxel_grid(noisy_model_object, 0.2)\n",
    "    noisy_teapot_voxel_pc = o3d.geometry.PointCloud()\n",
    "    noisy_teapot_voxel_pc.points = voxel_filter(noisy_model_object, noisy_model_object_grid,0.2)\n",
    "    \n",
    "    # farthest point downsampling\n",
    "    noisy_model_object_fp = farthest_point_sampling(noisy_model_object,int(len(noisy_model_object.points)/10 * 4))\n",
    "    noisy_model_object_fp_pc = o3d.geometry.PointCloud()\n",
    "    noisy_model_object_fp_pc.points = o3d.utility.Vector3dVector(np.asarray(noisy_model_object_fp.points))\n",
    "    visualize_model(noisy_model_object_fp_pc)"
   ],
   "id": "979984132ccf6e65",
   "outputs": [],
   "execution_count": null
  },
  {
   "metadata": {},
   "cell_type": "markdown",
   "source": "",
   "id": "a13a509dd712e465"
  }
 ],
 "metadata": {
  "kernelspec": {
   "display_name": "Python 3",
   "language": "python",
   "name": "python3"
  },
  "language_info": {
   "codemirror_mode": {
    "name": "ipython",
    "version": 2
   },
   "file_extension": ".py",
   "mimetype": "text/x-python",
   "name": "python",
   "nbconvert_exporter": "python",
   "pygments_lexer": "ipython2",
   "version": "2.7.6"
  }
 },
 "nbformat": 4,
 "nbformat_minor": 5
}
