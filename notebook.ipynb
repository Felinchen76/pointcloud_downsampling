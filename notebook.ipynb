{
 "cells": [
  {
   "cell_type": "code",
   "id": "initial_id",
   "metadata": {
    "collapsed": true,
    "ExecuteTime": {
     "end_time": "2024-06-05T06:18:18.055489Z",
     "start_time": "2024-06-05T06:18:16.542202Z"
    }
   },
   "source": [
    "#Imports\n",
    "from io import BytesIO\n",
    "import os\n",
    "import open3d as o3d\n",
    "import random\n",
    "import requests\n",
    "import tarfile\n",
    "import numpy as np\n",
    "from scipy.spatial import distance\n",
    "from scipy.spatial.distance import cdist, pdist, squareform"
   ],
   "outputs": [
    {
     "name": "stdout",
     "output_type": "stream",
     "text": [
      "Jupyter environment detected. Enabling Open3D WebVisualizer.\n",
      "[Open3D INFO] WebRTC GUI backend enabled.\n",
      "[Open3D INFO] WebRTCWindowSystem: HTTP handshake server disabled.\n"
     ]
    }
   ],
   "execution_count": 2
  },
  {
   "metadata": {
    "ExecuteTime": {
     "end_time": "2024-06-05T06:18:18.070256Z",
     "start_time": "2024-06-05T06:18:18.056446Z"
    }
   },
   "cell_type": "code",
   "source": [
    "def gromov_wasserstein(pc1: np.ndarray, pc2: np.ndarray) -> float:\n",
    "    def dist_ecc_fast(ecc, u):\n",
    "        return (np.mean(ecc <= u))\n",
    "\n",
    "    out = 0\n",
    "    # Konvertiere die Punktwolken in NumPy-Arrays\n",
    "    pc1 = np.asarray(pc1.points)\n",
    "    pc2 = np.asarray(pc2.points)\n",
    "\n",
    "    # Reshape input matrices if necessary\n",
    "    if pc1.ndim == 1:\n",
    "        pc1 = pc1.reshape(-1, 1)\n",
    "    if pc2.ndim == 1:\n",
    "        pc2 = pc2.reshape(-1, 1)\n",
    "\n",
    "    ecc1 = squareform(pdist(pc1)).mean(0)\n",
    "    ecc2 = squareform(pdist(pc2)).mean(0)\n",
    "    unique_ecc = np.unique(np.concatenate((ecc1, ecc2)))\n",
    "    for i in range(unique_ecc.shape[0] - 1):\n",
    "        u = unique_ecc[i]\n",
    "        out += (unique_ecc[i + 1] - unique_ecc[i]) * np.abs(dist_ecc_fast(ecc1, u) - dist_ecc_fast(ecc2, u))\n",
    "\n",
    "    return (0.5 * out)"
   ],
   "id": "7e1568af12c11b07",
   "outputs": [],
   "execution_count": 3
  },
  {
   "metadata": {
    "ExecuteTime": {
     "end_time": "2024-06-05T06:18:18.085643Z",
     "start_time": "2024-06-05T06:18:18.071690Z"
    }
   },
   "cell_type": "code",
   "source": [
    "def chamfer_distance(pc1: np.ndarray, pc2: np.ndarray) -> float:\n",
    "    dist = cdist(pc1, pc2)\n",
    "    ch_dist = (np.min(dist, axis=1).mean() + np.min(dist, axis=0).mean()) / 2\n",
    "    return ch_dist"
   ],
   "id": "d94821b1effd38a5",
   "outputs": [],
   "execution_count": 4
  },
  {
   "metadata": {
    "ExecuteTime": {
     "end_time": "2024-06-05T06:18:18.101659Z",
     "start_time": "2024-06-05T06:18:18.087637Z"
    }
   },
   "cell_type": "code",
   "source": [
    "def average_ratio(pc1: np.ndarray, pc2: np.ndarray, Dist_list: list) -> float:\n",
    "    d = cdist(pc1, pc2)\n",
    "    d0 = d.min(0)\n",
    "    d1 = d.min(1)\n",
    "\n",
    "    avr = 0\n",
    "    for i, dist in enumerate(Dist_list):\n",
    "        avr += (i + 1) * ((d1 <= dist).sum() / pc1.shape[0] + (d0 <= dist).sum() / pc2.shape[0])\n",
    "    return avr / (len(Dist_list) ** 2 + len(Dist_list))"
   ],
   "id": "53c1b50f63af67ab",
   "outputs": [],
   "execution_count": 5
  },
  {
   "metadata": {
    "ExecuteTime": {
     "end_time": "2024-06-05T06:18:18.116912Z",
     "start_time": "2024-06-05T06:18:18.102675Z"
    }
   },
   "cell_type": "code",
   "source": [
    "def ratio(pc1: np.ndarray, pc2: np.ndarray, thr_list=np.array([0.1, 0.5, 1, 2, 4])) -> list:\n",
    "    d = np.min(cdist(pc1, pc2), axis=1)\n",
    "    r = (d <= thr_list[:, None]).mean(1)\n",
    "    return thr_list, r"
   ],
   "id": "a56b738a09705256",
   "outputs": [],
   "execution_count": 6
  },
  {
   "metadata": {
    "ExecuteTime": {
     "end_time": "2024-06-05T06:18:18.132856Z",
     "start_time": "2024-06-05T06:18:18.117905Z"
    }
   },
   "cell_type": "code",
   "source": [
    "def create_pcd_from_mesh(mesh):\n",
    "    mesh.compute_vertex_normals()\n",
    "    o3d.visualization.draw_geometries([mesh])\n",
    "    # distribute dots evenly on the surface\n",
    "    return mesh.sample_points_uniformly(500)"
   ],
   "id": "77f3497eebb98499",
   "outputs": [],
   "execution_count": 7
  },
  {
   "metadata": {
    "ExecuteTime": {
     "end_time": "2024-06-05T06:18:18.147846Z",
     "start_time": "2024-06-05T06:18:18.133852Z"
    }
   },
   "cell_type": "code",
   "source": [
    "def load_model(link, path):\n",
    "    # http://ycb-benchmarks.s3-website-us-east-1.amazonaws.com/\n",
    "    response = requests.get(link)\n",
    "    tgz_data = BytesIO(response.content)\n",
    "    # set the current working directory to the script's directory\n",
    "    script_directory = os.path.dirname(os.path.abspath(__file__))\n",
    "    os.chdir(script_directory)\n",
    "    with tarfile.open(fileobj=tgz_data, mode=\"r:gz\") as tar_ref:\n",
    "        tar_ref.extractall(script_directory)\n",
    "    # join paths\n",
    "    model_path = os.path.join(script_directory, path, \"clouds\", \"merged_cloud.ply\")\n",
    "    # load pointcloud\n",
    "    pcd = o3d.io.read_point_cloud(model_path)\n",
    "    return pcd"
   ],
   "id": "7a14771974f89559",
   "outputs": [],
   "execution_count": 8
  },
  {
   "metadata": {
    "ExecuteTime": {
     "end_time": "2024-06-05T06:18:18.162654Z",
     "start_time": "2024-06-05T06:18:18.148908Z"
    }
   },
   "cell_type": "code",
   "source": [
    "def load_cad_model(model):\n",
    "    # load model generated in freecad\n",
    "    return o3d.io.read_point_cloud(model)"
   ],
   "id": "268acea18c088fe8",
   "outputs": [],
   "execution_count": 9
  },
  {
   "metadata": {
    "ExecuteTime": {
     "end_time": "2024-06-05T06:18:18.178636Z",
     "start_time": "2024-06-05T06:18:18.163692Z"
    }
   },
   "cell_type": "code",
   "source": [
    "def visualize_model(model):\n",
    "    o3d.visualization.draw_geometries([model])"
   ],
   "id": "a6cb10deb5b2cada",
   "outputs": [],
   "execution_count": 10
  },
  {
   "metadata": {
    "ExecuteTime": {
     "end_time": "2024-06-05T06:18:18.194232Z",
     "start_time": "2024-06-05T06:18:18.181627Z"
    }
   },
   "cell_type": "code",
   "source": [
    "def get_num_points(model):\n",
    "    print(len(model.points))"
   ],
   "id": "b24f412aa7c9f798",
   "outputs": [],
   "execution_count": 11
  },
  {
   "metadata": {
    "ExecuteTime": {
     "end_time": "2024-06-05T06:18:18.210269Z",
     "start_time": "2024-06-05T06:18:18.195266Z"
    }
   },
   "cell_type": "code",
   "source": [
    "def create_pointcloud_from_coordinates(coordinates):\n",
    "    # create point cloud with coordinates\n",
    "    pcd = o3d.geometry.PointCloud()\n",
    "    pcd.points = o3d.utility.Vector3dVector(coordinates)\n",
    "    return pcd"
   ],
   "id": "9d07c2e658e06523",
   "outputs": [],
   "execution_count": 12
  },
  {
   "metadata": {
    "ExecuteTime": {
     "end_time": "2024-06-05T06:18:18.225355Z",
     "start_time": "2024-06-05T06:18:18.211404Z"
    }
   },
   "cell_type": "code",
   "source": [
    "def get_coordinates(model):\n",
    "    coordinates = [list(point) for point in model.points]\n",
    "    # print(coordinates[:50])\n",
    "    return coordinates"
   ],
   "id": "dcdc0ec299624eba",
   "outputs": [],
   "execution_count": 13
  },
  {
   "metadata": {
    "ExecuteTime": {
     "end_time": "2024-06-05T06:18:18.241375Z",
     "start_time": "2024-06-05T06:18:18.227349Z"
    }
   },
   "cell_type": "code",
   "source": [
    "def random_downsampling(model, endpoints):\n",
    "    # get coordinates of the models\n",
    "    coordinates = get_coordinates(model)\n",
    "    # select random points for downsampling\n",
    "    for i in range(len(coordinates) - endpoints):\n",
    "        rannumb = random.randint(0, len(coordinates) - 1)\n",
    "        del coordinates[rannumb]\n",
    "    point_cloud = create_pointcloud_from_coordinates(coordinates)\n",
    "    return point_cloud"
   ],
   "id": "2052f3d3ed6ad35a",
   "outputs": [],
   "execution_count": 14
  },
  {
   "metadata": {
    "ExecuteTime": {
     "end_time": "2024-06-05T06:18:18.256748Z",
     "start_time": "2024-06-05T06:18:18.242372Z"
    }
   },
   "cell_type": "code",
   "source": [
    "def farthest_point_sampling1(model, num_points_keep):\n",
    "    coordinates = np.array(get_coordinates(model))\n",
    "    retVal = []\n",
    "    # to make runs comparable\n",
    "    random.seed(13)\n",
    "    # generate \"random\" int\n",
    "    randint = random.randint(0, len(coordinates) - 1)\n",
    "    # select random point from model\n",
    "    retVal = np.append(retVal, coordinates[randint])\n",
    "    # delete chosen point from original model after it was added to the downsampled cloud\n",
    "    coordinates = np.delete(coordinates, randint, axis=0)\n",
    "    while len(retVal) < num_points_keep:\n",
    "        retValnp = np.array(retVal)\n",
    "        # berechne die Entfernungen der ausgewählten Punkte zu den ausgewählten Punkten\n",
    "        eucl_distances = distance.cdist(retValnp, coordinates, 'euclidean')\n",
    "        # finde den weitesten Punkt heraus\n",
    "        # füge den am weitesten entfernten Punkt der Liste hinzu\n",
    "        retVal = np.append(retValnp, np.max(eucl_distances, axis=0))\n",
    "        # punkt aus der Liste mit den ursprünglichen Koordinaten löschen\n",
    "        min_distance_index = np.argmax(eucl_distances)\n",
    "        coordinates = np.delete(coordinates, min_distance_index, axis=0)\n",
    "    return retVal"
   ],
   "id": "a527fbcc99f0beb9",
   "outputs": [],
   "execution_count": 15
  },
  {
   "metadata": {
    "ExecuteTime": {
     "end_time": "2024-06-05T06:18:18.272625Z",
     "start_time": "2024-06-05T06:18:18.258788Z"
    }
   },
   "cell_type": "code",
   "source": [
    "def farthest_point_sampling(model, num_points_keep):\n",
    "    coordinates = np.array(get_coordinates(model))\n",
    "    retVal = []\n",
    "    # to make runs comparable\n",
    "    random.seed(13)\n",
    "    # generate \"random\" int\n",
    "    randint = random.randint(0, len(coordinates) - 1)\n",
    "    # select random point from model\n",
    "    retVal.append(coordinates[randint])\n",
    "    # delete chosen point from original model after it was added to the downsampled cloud\n",
    "    coordinates = np.delete(coordinates, randint, axis=0)\n",
    "    while len(retVal) < num_points_keep:\n",
    "        # Berechne die euklidischen Distanzen der ausgewählten Punkte zu den verbleibenden Punkten\n",
    "        eucl_distances = distance.cdist(retVal, coordinates, 'euclidean')\n",
    "        # Finden Sie den Punkt mit der größten Mindestdistanz\n",
    "        min_mindist = np.min(eucl_distances, axis=0)\n",
    "        # Finden Sie den Index des Punktes mit der größten Mindestdistanz\n",
    "        max_min_distance_index = np.argmax(min_mindist)\n",
    "        # Fügen Sie den am weitesten entfernten Punkt der Liste hinzu\n",
    "        retVal.append(coordinates[max_min_distance_index])\n",
    "        # Entfernen Sie den ausgewählten Punkt aus den verbleibenden Koordinaten\n",
    "        coordinates = np.delete(coordinates, max_min_distance_index, axis=0)\n",
    "    return create_pointcloud_from_coordinates(np.array(retVal))"
   ],
   "id": "c93a96564378e9f4",
   "outputs": [],
   "execution_count": 16
  },
  {
   "metadata": {
    "ExecuteTime": {
     "end_time": "2024-06-05T06:18:18.288555Z",
     "start_time": "2024-06-05T06:18:18.273604Z"
    }
   },
   "cell_type": "code",
   "source": [
    "# built in function von open3d?\n",
    "def radius_outlier_removal_call(model):\n",
    "    return model.remove_radius_outlier(nb_points=5, radius=0.05)"
   ],
   "id": "42dd39bb15f7e3e1",
   "outputs": [],
   "execution_count": 17
  },
  {
   "metadata": {
    "ExecuteTime": {
     "end_time": "2024-06-05T07:24:25.992988Z",
     "start_time": "2024-06-05T07:24:25.977824Z"
    }
   },
   "cell_type": "code",
   "source": [
    "# add noise to pointcloud\n",
    "def add_noise(model, noisiness):\n",
    "    points = np.asarray(model.points)\n",
    "    noise = np.random.normal(0, noisiness, size=points.shape)\n",
    "    noisy_points = points + noise\n",
    "\n",
    "    noisy_pc = o3d.geometry.PointCloud()\n",
    "    noisy_pc.points = o3d.utility.Vector3dVector(noisy_points)\n",
    "    return noisy_pc"
   ],
   "id": "4b8175616d52ffb4",
   "outputs": [],
   "execution_count": 38
  },
  {
   "metadata": {
    "ExecuteTime": {
     "end_time": "2024-06-05T06:18:18.304501Z",
     "start_time": "2024-06-05T06:18:18.289553Z"
    }
   },
   "cell_type": "code",
   "source": [
    "# with median -> aggregation method as parameter??\n",
    "def create_voxel_grid(model, voxel_size):\n",
    "    model_points = np.array(get_coordinates(model))\n",
    "    min_bound = np.min(model_points, axis=0)\n",
    "    max_bound = np.max(model_points, axis=0)\n",
    "\n",
    "    dimensions = np.ceil((max_bound - min_bound) / voxel_size).astype(int)\n",
    "\n",
    "    voxelgrid = np.zeros(dimensions)\n",
    "\n",
    "    for point in model_points:\n",
    "        voxel_coordinates = ((point - min_bound) / voxel_size).astype(int)\n",
    "        # -1 needed in order to avoid index out of bounds\n",
    "        voxelgrid[tuple(voxel_coordinates - 1)] += 1\n",
    "    # visualize voxel grid to check if its correct\n",
    "    # convert voxelgrid to open3d Voxelgrid\n",
    "    o3d_voxelgrid = o3d.geometry.VoxelGrid.create_from_point_cloud(input=model, voxel_size=voxel_size)\n",
    "    #o3d.visualization.draw_geometries([o3d_voxelgrid])\n",
    "    return o3d_voxelgrid\n",
    "\n",
    "\n",
    "def voxel_filter(model, voxelgrid, voxel_size):\n",
    "    # list where downsampled points will be saved\n",
    "    downsampled_points = []\n",
    "    # iterate over all voxel in the voxelgrid\n",
    "    for voxel in voxelgrid.get_voxels():\n",
    "        # get bounds of the voxel\n",
    "        downsampled_points.extend(is_point_in_voxel(model, voxelgrid, voxel, voxel_size))\n",
    "    downsampled_points = np.asarray(downsampled_points)\n",
    "    return o3d.utility.Vector3dVector(downsampled_points)\n",
    "\n",
    "\n",
    "def aggregate_points(points):\n",
    "    # Aggregate the points by averaging, taking into account the z coordinate\n",
    "    if len(points) == 0:\n",
    "        return points\n",
    "    aggregated_points = []\n",
    "    aggregated_points.append(np.mean(points, axis=0))\n",
    "    return aggregated_points\n",
    "\n",
    "\n",
    "def is_point_in_voxel(model, voxelgrid, voxel, voxel_size):\n",
    "    # get center point and see whether a point lies within the given distance/2 of the voxel size from the center\n",
    "    voxel_center = voxelgrid.get_voxel_center_coordinate(voxel.grid_index)\n",
    "    points_in_voxel = []\n",
    "    half_size = voxel_size / 2.0\n",
    "    # Überprüfe, welche Punkte innerhalb des Voxels liegen\n",
    "    for point in model.points:\n",
    "        if np.all(np.abs(point - voxel_center) <= half_size):\n",
    "            points_in_voxel.append(point)\n",
    "    points_in_voxel = aggregate_points(points_in_voxel)\n",
    "    # print(points_in_voxel)\n",
    "    return points_in_voxel\n",
    "\n",
    "def create_points_from_voxel(voxel_model):\n",
    "    # Vektoren in Numpy Array konvertieren\n",
    "    vector_array = np.asarray(voxel_model)\n",
    "    \n",
    "    # Open3D Punktewolke erstellen\n",
    "    point_cloud = o3d.geometry.PointCloud()\n",
    "    point_cloud.points = o3d.utility.Vector3dVector(vector_array)\n",
    "    \n",
    "    return point_cloud\n"
   ],
   "id": "d80e628c3ec6ce94",
   "outputs": [],
   "execution_count": 18
  },
  {
   "metadata": {
    "ExecuteTime": {
     "end_time": "2024-06-05T06:18:18.320489Z",
     "start_time": "2024-06-05T06:18:18.305498Z"
    }
   },
   "cell_type": "code",
   "source": [
    "import inspect\n",
    "\n",
    "def point_cloud_to_ply(point_cloud, file_name): \n",
    "    # safe downsampled point cloud as ply data\n",
    "    o3d.io.write_point_cloud(file_name, point_cloud)"
   ],
   "id": "efa529414d46c342",
   "outputs": [],
   "execution_count": 19
  },
  {
   "metadata": {
    "ExecuteTime": {
     "end_time": "2024-06-05T06:18:18.336399Z",
     "start_time": "2024-06-05T06:18:18.322441Z"
    }
   },
   "cell_type": "code",
   "source": [
    "import logging\n",
    "# Logging\n",
    "logging.basicConfig(filename='downsampling.log', level=logging.INFO, format='%(asctime)s - %(message)s')\n",
    "\n",
    "# Pfad zum Speichern der Bilder\n",
    "output_dir = 'point_cloud_images'\n",
    "os.makedirs(output_dir, exist_ok=True)\n",
    "#except Exception as e: logging.error(f'Iteration {i+1}: Fehler aufgetreten - {e}')"
   ],
   "id": "af108f8c60310f46",
   "outputs": [],
   "execution_count": 20
  },
  {
   "metadata": {
    "ExecuteTime": {
     "end_time": "2024-06-05T06:18:18.571554Z",
     "start_time": "2024-06-05T06:18:18.337397Z"
    }
   },
   "cell_type": "code",
   "source": [
    "# to do lege die Bilder mit relaitven Pfad im Repo an!\n",
    "cone = load_cad_model(r\"cone.ply\")\n",
    "sphere = load_cad_model(r\"sphere.ply\")\n",
    "cube = load_cad_model(r\"cube.ply\")\n",
    "complex_cube = load_cad_model(r\"complexCube.ply\")\n",
    "complex_cone = load_cad_model(r\"hollowCone.ply\")\n",
    "complex_sphere = load_cad_model(r\"complexSphere.ply\")\n",
    "pencil = load_cad_model(r\"pencil_fein.ply\")\n",
    "# source: https://sketchfab.com/3d-models/davis-teapot-materialcleanup-547971eaf21d43f2b6cfcb6be0e7bf11\n",
    "teapot = load_cad_model(r\"teapot.ply\")\n",
    "# source: https://sketchfab.com/3d-models/book-ba04f5ac66194341bc7d437fb6c94674\n",
    "book = load_cad_model(r\"book.ply\")"
   ],
   "id": "fb44a471c057b4a8",
   "outputs": [],
   "execution_count": 21
  },
  {
   "metadata": {
    "ExecuteTime": {
     "end_time": "2024-06-05T06:18:18.586782Z",
     "start_time": "2024-06-05T06:18:18.572561Z"
    }
   },
   "cell_type": "code",
   "source": "# Laufzeittests",
   "id": "a76bff8c2991f0fb",
   "outputs": [],
   "execution_count": 22
  },
  {
   "metadata": {
    "ExecuteTime": {
     "end_time": "2024-06-05T06:18:18.602887Z",
     "start_time": "2024-06-05T06:18:18.587900Z"
    }
   },
   "cell_type": "code",
   "source": [
    "from open3d.examples.open3d_example import draw_registration_result\n",
    "# Auswertung ICP\n",
    "# Transformiere die Ziel-Punktwolke zur besseren Demonstration\n",
    "# ich kann hier auch meine Matplotlib Implementierung verwenden!\n",
    "def icp_algorithm(source, target):\n",
    "    # Transformierung der Target Punktewolke\n",
    "    transformation = np.array([[0.86, 0.5, 0.1, 0.5],\n",
    "                               [-0.5, 0.86, 0.1, 0.5],\n",
    "                               [0.0, -0.1, 0.99, 0.5],\n",
    "                               [0.0, 0.0, 0.0, 1.0]])\n",
    "    target = target.transform(transformation)\n",
    "    \n",
    "    # ICP-Algorithmus ausführen\n",
    "    threshold = 0.01  # Maximale Entfernung für die Zuordnung von Punkten\n",
    "    initial_transformation = np.identity(4)  # Initiale Schätzung der Transformation\n",
    "    \n",
    "    # Open3D ICP Algorithmus\n",
    "    reg_p2p = o3d.pipelines.registration.registration_icp(\n",
    "        source, target, threshold, initial_transformation,\n",
    "        o3d.pipelines.registration.TransformationEstimationPointToPoint())\n",
    "    \n",
    "    # Ergebnis grafisch ausgeben lassen\n",
    "    draw_registration_result(source, target, reg_p2p.transformation)\n",
    "    \n",
    "    # evaluierung wie gut der ICP lief\n",
    "    evaluation = o3d.pipelines.registration.evaluate_registration(\n",
    "    source, target, threshold, transformation)\n",
    "    print(evaluation)\n"
   ],
   "id": "acbc5ea2a52a8d36",
   "outputs": [],
   "execution_count": 23
  },
  {
   "metadata": {
    "ExecuteTime": {
     "end_time": "2024-06-05T06:18:18.618337Z",
     "start_time": "2024-06-05T06:18:18.603855Z"
    }
   },
   "cell_type": "code",
   "source": "# Auswertung der quantitativen Methoden",
   "id": "b0b94344107c5c49",
   "outputs": [],
   "execution_count": 24
  },
  {
   "metadata": {
    "ExecuteTime": {
     "end_time": "2024-06-05T06:18:24.502411Z",
     "start_time": "2024-06-05T06:18:18.619275Z"
    }
   },
   "cell_type": "code",
   "source": [
    "import time\n",
    "\n",
    "#Test für Stabilität der Ergebnisse\n",
    "# Anzahl der Wiederholungen\n",
    "# Konfiguration des Loggings\n",
    "log_filename = 'downsampling.log'\n",
    "#if os.path.exists(log_filename):\n",
    "  #  os.remove(log_filename)\n",
    "    \n",
    "logging.basicConfig(\n",
    "    filename=log_filename,\n",
    "    filemode='w',\n",
    "    level=logging.INFO,\n",
    "    format='%(asctime)s - %(levelname)s - %(message)s'\n",
    ")\n",
    "\n",
    "\n",
    "num_iterations = 6\n",
    "output_dir_pc = 'point_cloud_images'\n",
    "os.makedirs(output_dir, exist_ok=True)\n",
    "\n",
    "model_array = [cone, cube,sphere, complex_cone, complex_sphere, pencil, teapot, book]\n",
    "for model in model_array:\n",
    "    for i in range(num_iterations):\n",
    "        try:\n",
    "                #random downsampling\n",
    "                start = time.time()\n",
    "                rd = random_downsampling(model, 75)\n",
    "                end = time.time()\n",
    "                elapsed_time = end - start\n",
    "                logging.info(f'Random Downsampling - Iteration {i+1}: Downsampling durchgeführt, verbleibende Punkte: {len(rd.points)},      Rechenzeit: {elapsed_time:.4f} Sekunden')\n",
    "                # Bildspeicherung! -> nachschauen was durch das Reshapen hier passiert!\n",
    "                point_cloud_to_ply(rd, \"random downsampling\"+str(i+1))                \n",
    "                # voxelgrid\n",
    "                start = time.time()\n",
    "                vx_grid = create_voxel_grid(model, 0.2)\n",
    "\n",
    "                vx = voxel_filter(model, vx_grid, 0.2)\n",
    "                end = time.time()\n",
    "                elapsed_time = end - start\n",
    "                logging.info(f'Voxel Downsampling - Iteration {i+1}: Downsampling durchgeführt, verbleibende Punkte: {len(vx)},      Rechenzeit: {elapsed_time:.4f} Sekunden')\n",
    "                    # Bildspeicherung! -> nachschauen was durch das Reshapen hier passiert!\n",
    "                point_cloud_to_ply(vx, \"voxel filter:\"+str(i+1))\n",
    "                \n",
    "                start = time.time()\n",
    "                fp= farthest_point_sampling(model,75)\n",
    "                end = time.time()\n",
    "                elapsed_time = end - start\n",
    "                logging.info(f'Farthest Point Downsampling - Iteration {i+1}: Downsampling durchgeführt, verbleibende Punkte: {len(fp.points)}, Rechenzeit: {elapsed_time:.4f} Sekunden')\n",
    "                    # Bildspeicherung! -> nachschauen was durch das Reshapen hier passiert!\n",
    "                point_cloud_to_ply(fp, \"farthest point downsampling\"+str(i+1))\n",
    "        except Exception as e:\n",
    "            logging.error(f'Iteration {i+1}: Fehler aufgetreten - {e}')\n",
    "\n",
    "logging.info('Alle Iterationen abgeschlossen.') "
   ],
   "id": "6bf2b56f8cde679b",
   "outputs": [
    {
     "name": "stdout",
     "output_type": "stream",
     "text": [
      "[Open3D WARNING] Write geometry::PointCloud failed: unknown file extension  for file random downsampling1.\n"
     ]
    },
    {
     "ename": "KeyboardInterrupt",
     "evalue": "",
     "output_type": "error",
     "traceback": [
      "\u001B[1;31m---------------------------------------------------------------------------\u001B[0m",
      "\u001B[1;31mKeyboardInterrupt\u001B[0m                         Traceback (most recent call last)",
      "Cell \u001B[1;32mIn[25], line 38\u001B[0m\n\u001B[0;32m     35\u001B[0m start \u001B[38;5;241m=\u001B[39m time\u001B[38;5;241m.\u001B[39mtime()\n\u001B[0;32m     36\u001B[0m vx_grid \u001B[38;5;241m=\u001B[39m create_voxel_grid(model, \u001B[38;5;241m0.2\u001B[39m)\n\u001B[1;32m---> 38\u001B[0m vx \u001B[38;5;241m=\u001B[39m \u001B[43mvoxel_filter\u001B[49m\u001B[43m(\u001B[49m\u001B[43mmodel\u001B[49m\u001B[43m,\u001B[49m\u001B[43m \u001B[49m\u001B[43mvx_grid\u001B[49m\u001B[43m,\u001B[49m\u001B[43m \u001B[49m\u001B[38;5;241;43m0.2\u001B[39;49m\u001B[43m)\u001B[49m\n\u001B[0;32m     39\u001B[0m end \u001B[38;5;241m=\u001B[39m time\u001B[38;5;241m.\u001B[39mtime()\n\u001B[0;32m     40\u001B[0m elapsed_time \u001B[38;5;241m=\u001B[39m end \u001B[38;5;241m-\u001B[39m start\n",
      "Cell \u001B[1;32mIn[18], line 28\u001B[0m, in \u001B[0;36mvoxel_filter\u001B[1;34m(model, voxelgrid, voxel_size)\u001B[0m\n\u001B[0;32m     25\u001B[0m \u001B[38;5;66;03m# iterate over all voxel in the voxelgrid\u001B[39;00m\n\u001B[0;32m     26\u001B[0m \u001B[38;5;28;01mfor\u001B[39;00m voxel \u001B[38;5;129;01min\u001B[39;00m voxelgrid\u001B[38;5;241m.\u001B[39mget_voxels():\n\u001B[0;32m     27\u001B[0m     \u001B[38;5;66;03m# get bounds of the voxel\u001B[39;00m\n\u001B[1;32m---> 28\u001B[0m     downsampled_points\u001B[38;5;241m.\u001B[39mextend(\u001B[43mis_point_in_voxel\u001B[49m\u001B[43m(\u001B[49m\u001B[43mmodel\u001B[49m\u001B[43m,\u001B[49m\u001B[43m \u001B[49m\u001B[43mvoxelgrid\u001B[49m\u001B[43m,\u001B[49m\u001B[43m \u001B[49m\u001B[43mvoxel\u001B[49m\u001B[43m,\u001B[49m\u001B[43m \u001B[49m\u001B[43mvoxel_size\u001B[49m\u001B[43m)\u001B[49m)\n\u001B[0;32m     29\u001B[0m downsampled_points \u001B[38;5;241m=\u001B[39m np\u001B[38;5;241m.\u001B[39masarray(downsampled_points)\n\u001B[0;32m     30\u001B[0m \u001B[38;5;28;01mreturn\u001B[39;00m o3d\u001B[38;5;241m.\u001B[39mutility\u001B[38;5;241m.\u001B[39mVector3dVector(downsampled_points)\n",
      "Cell \u001B[1;32mIn[18], line 49\u001B[0m, in \u001B[0;36mis_point_in_voxel\u001B[1;34m(model, voxelgrid, voxel, voxel_size)\u001B[0m\n\u001B[0;32m     47\u001B[0m \u001B[38;5;66;03m# Überprüfe, welche Punkte innerhalb des Voxels liegen\u001B[39;00m\n\u001B[0;32m     48\u001B[0m \u001B[38;5;28;01mfor\u001B[39;00m point \u001B[38;5;129;01min\u001B[39;00m model\u001B[38;5;241m.\u001B[39mpoints:\n\u001B[1;32m---> 49\u001B[0m     \u001B[38;5;28;01mif\u001B[39;00m \u001B[43mnp\u001B[49m\u001B[38;5;241;43m.\u001B[39;49m\u001B[43mall\u001B[49m\u001B[43m(\u001B[49m\u001B[43mnp\u001B[49m\u001B[38;5;241;43m.\u001B[39;49m\u001B[43mabs\u001B[49m\u001B[43m(\u001B[49m\u001B[43mpoint\u001B[49m\u001B[43m \u001B[49m\u001B[38;5;241;43m-\u001B[39;49m\u001B[43m \u001B[49m\u001B[43mvoxel_center\u001B[49m\u001B[43m)\u001B[49m\u001B[43m \u001B[49m\u001B[38;5;241;43m<\u001B[39;49m\u001B[38;5;241;43m=\u001B[39;49m\u001B[43m \u001B[49m\u001B[43mhalf_size\u001B[49m\u001B[43m)\u001B[49m:\n\u001B[0;32m     50\u001B[0m         points_in_voxel\u001B[38;5;241m.\u001B[39mappend(point)\n\u001B[0;32m     51\u001B[0m points_in_voxel \u001B[38;5;241m=\u001B[39m aggregate_points(points_in_voxel)\n",
      "File \u001B[1;32m~\\DataspellProjects\\pointcloud_downsampling\\venv\\lib\\site-packages\\numpy\\core\\fromnumeric.py:2504\u001B[0m, in \u001B[0;36mall\u001B[1;34m(a, axis, out, keepdims, where)\u001B[0m\n\u001B[0;32m   2421\u001B[0m \u001B[38;5;129m@array_function_dispatch\u001B[39m(_all_dispatcher)\n\u001B[0;32m   2422\u001B[0m \u001B[38;5;28;01mdef\u001B[39;00m \u001B[38;5;21mall\u001B[39m(a, axis\u001B[38;5;241m=\u001B[39m\u001B[38;5;28;01mNone\u001B[39;00m, out\u001B[38;5;241m=\u001B[39m\u001B[38;5;28;01mNone\u001B[39;00m, keepdims\u001B[38;5;241m=\u001B[39mnp\u001B[38;5;241m.\u001B[39m_NoValue, \u001B[38;5;241m*\u001B[39m, where\u001B[38;5;241m=\u001B[39mnp\u001B[38;5;241m.\u001B[39m_NoValue):\n\u001B[0;32m   2423\u001B[0m \u001B[38;5;250m    \u001B[39m\u001B[38;5;124;03m\"\"\"\u001B[39;00m\n\u001B[0;32m   2424\u001B[0m \u001B[38;5;124;03m    Test whether all array elements along a given axis evaluate to True.\u001B[39;00m\n\u001B[0;32m   2425\u001B[0m \n\u001B[1;32m   (...)\u001B[0m\n\u001B[0;32m   2502\u001B[0m \n\u001B[0;32m   2503\u001B[0m \u001B[38;5;124;03m    \"\"\"\u001B[39;00m\n\u001B[1;32m-> 2504\u001B[0m     \u001B[38;5;28;01mreturn\u001B[39;00m \u001B[43m_wrapreduction\u001B[49m\u001B[43m(\u001B[49m\u001B[43ma\u001B[49m\u001B[43m,\u001B[49m\u001B[43m \u001B[49m\u001B[43mnp\u001B[49m\u001B[38;5;241;43m.\u001B[39;49m\u001B[43mlogical_and\u001B[49m\u001B[43m,\u001B[49m\u001B[43m \u001B[49m\u001B[38;5;124;43m'\u001B[39;49m\u001B[38;5;124;43mall\u001B[39;49m\u001B[38;5;124;43m'\u001B[39;49m\u001B[43m,\u001B[49m\u001B[43m \u001B[49m\u001B[43maxis\u001B[49m\u001B[43m,\u001B[49m\u001B[43m \u001B[49m\u001B[38;5;28;43;01mNone\u001B[39;49;00m\u001B[43m,\u001B[49m\u001B[43m \u001B[49m\u001B[43mout\u001B[49m\u001B[43m,\u001B[49m\n\u001B[0;32m   2505\u001B[0m \u001B[43m                          \u001B[49m\u001B[43mkeepdims\u001B[49m\u001B[38;5;241;43m=\u001B[39;49m\u001B[43mkeepdims\u001B[49m\u001B[43m,\u001B[49m\u001B[43m \u001B[49m\u001B[43mwhere\u001B[49m\u001B[38;5;241;43m=\u001B[39;49m\u001B[43mwhere\u001B[49m\u001B[43m)\u001B[49m\n",
      "\u001B[1;31mKeyboardInterrupt\u001B[0m: "
     ]
    }
   ],
   "execution_count": 25
  },
  {
   "metadata": {},
   "cell_type": "markdown",
   "source": "Sphere Test",
   "id": "e2d6a6e13e85efb2"
  },
  {
   "metadata": {
    "ExecuteTime": {
     "end_time": "2024-06-05T06:32:38.770230Z",
     "start_time": "2024-06-05T06:29:00.589773Z"
    }
   },
   "cell_type": "code",
   "source": [
    "visualize_model(sphere)\n",
    "# random downsampling\n",
    "sphere_rd= random_downsampling(sphere, int(len(sphere.points)/10 * 4))\n",
    "sphere_rd_pc = o3d.geometry.PointCloud()\n",
    "sphere_rd_pc.points = o3d.utility.Vector3dVector(np.asarray(sphere_rd.points))\n",
    "icp_algorithm(sphere, sphere_rd_pc) # stimmt es hier die Punktewolken so zu nehmen?\n",
    "#RegistrationResult with fitness=3.998821e-01, inlier_rmse=0.000000e+00, and correspondence_set size of 2035\n",
    "# voxel grid filter\n",
    "sphere_voxel_grid = create_voxel_grid(sphere, 0.2)\n",
    "sphere_voxel_pc = o3d.geometry.PointCloud()\n",
    "sphere_voxel_pc.points = voxel_filter(sphere, sphere_voxel_grid,0.2)\n",
    "icp_algorithm(sphere_voxel_pc,sphere)\n",
    "#RegistrationResult with fitness=1.000000e+00, inlier_rmse=0.000000e+00, and correspondence_set size of 5089\n",
    "# farthest point downsampling\n",
    "sphere_fp = farthest_point_sampling(sphere,int(len(sphere.points)/10 * 4))\n",
    "sphere_fp_pc = o3d.geometry.PointCloud()\n",
    "sphere_fp_pc.points = o3d.utility.Vector3dVector(np.asarray(sphere_fp.points))\n",
    "icp_algorithm(sphere, sphere_fp_pc)\n",
    "#RegistrationResult with fitness=3.998821e-01, inlier_rmse=0.000000e+00, and correspondence_set size of 2035"
   ],
   "id": "f2ae2791168b938f",
   "outputs": [
    {
     "name": "stdout",
     "output_type": "stream",
     "text": [
      "RegistrationResult with fitness=3.998821e-01, inlier_rmse=0.000000e+00, and correspondence_set size of 2035\n",
      "Access transformation to get result.\n",
      "RegistrationResult with fitness=1.000000e+00, inlier_rmse=0.000000e+00, and correspondence_set size of 5089\n",
      "Access transformation to get result.\n",
      "[Open3D WARNING] GLFW Error: WGL: Failed to make context current: Das Handle ist ungültig. \n",
      "[Open3D WARNING] GLFW Error: WGL: Failed to make context current: Das Handle ist ungültig. \n",
      "[Open3D WARNING] GLFW Error: WGL: Failed to make context current: Der angeforderte Transformationsvorgang wird nicht unterstützt. \n",
      "[Open3D WARNING] GLFW Error: WGL: Failed to make context current: Das Handle ist ungültig. \n",
      "[Open3D WARNING] GLFW Error: WGL: Failed to make context current: Der angeforderte Transformationsvorgang wird nicht unterstützt. \n",
      "RegistrationResult with fitness=3.998821e-01, inlier_rmse=0.000000e+00, and correspondence_set size of 2035\n",
      "Access transformation to get result.\n"
     ]
    }
   ],
   "execution_count": 31
  },
  {
   "metadata": {},
   "cell_type": "markdown",
   "source": "Complex Sphere Test",
   "id": "c357b9fee2f37311"
  },
  {
   "metadata": {
    "ExecuteTime": {
     "end_time": "2024-06-05T06:36:13.336726Z",
     "start_time": "2024-06-05T06:35:30.695693Z"
    }
   },
   "cell_type": "code",
   "source": [
    "visualize_model(complex_sphere)\n",
    "complex_sphere_rd= random_downsampling(complex_sphere, int(len(complex_sphere.points)/10 * 2))\n",
    "icp_algorithm(complex_sphere,complex_sphere_rd) # nehme ich hier bei beiden die gedownsamplete Punktewolke?\n",
    "#RegistrationResult with fitness=2.000000e-01, inlier_rmse=0.000000e+00, and correspondence_set size of 244\n",
    "# voxel grid filter\n",
    "complex_sphere_voxel_grid = create_voxel_grid(complex_sphere, 0.2)\n",
    "complex_sphere_voxel_pc = o3d.geometry.PointCloud()\n",
    "complex_sphere_voxel_pc.points = voxel_filter(complex_sphere, complex_sphere_voxel_grid,0.2)\n",
    "icp_algorithm(complex_sphere_voxel_pc,complex_sphere)\n",
    "#RegistrationResult with fitness=1.000000e+00, inlier_rmse=0.000000e+00, and correspondence_set size of 1220\n",
    "# farthest point downsampling\n",
    "complex_sphere_fp = farthest_point_sampling(complex_sphere,int(len(complex_sphere.points)/10 * 4))\n",
    "complex_sphere_fp_pc = o3d.geometry.PointCloud()\n",
    "complex_sphere_fp_pc.points = o3d.utility.Vector3dVector(np.asarray(complex_sphere_fp.points))\n",
    "icp_algorithm(complex_sphere, complex_sphere_fp_pc)\n",
    "#RegistrationResult with fitness=4.000000e-01, inlier_rmse=0.000000e+00, and correspondence_set size of 488"
   ],
   "id": "8762ed4263a3467",
   "outputs": [
    {
     "name": "stdout",
     "output_type": "stream",
     "text": [
      "RegistrationResult with fitness=2.000000e-01, inlier_rmse=0.000000e+00, and correspondence_set size of 244\n",
      "Access transformation to get result.\n",
      "[Open3D WARNING] GLFW Error: WGL: Failed to make context current: Das Handle ist ungültig. \n",
      "RegistrationResult with fitness=1.000000e+00, inlier_rmse=0.000000e+00, and correspondence_set size of 1220\n",
      "Access transformation to get result.\n",
      "[Open3D WARNING] GLFW Error: WGL: Failed to make context current: Das Handle ist ungültig. \n",
      "RegistrationResult with fitness=4.000000e-01, inlier_rmse=0.000000e+00, and correspondence_set size of 488\n",
      "Access transformation to get result.\n"
     ]
    }
   ],
   "execution_count": 32
  },
  {
   "metadata": {},
   "cell_type": "markdown",
   "source": "Teapot Test",
   "id": "d81fa780ef2c4d46"
  },
  {
   "metadata": {
    "ExecuteTime": {
     "end_time": "2024-06-05T06:52:06.468352Z",
     "start_time": "2024-06-05T06:39:51.966138Z"
    }
   },
   "cell_type": "code",
   "source": [
    "visualize_model(teapot)\n",
    "# random downsampling\n",
    "teapot_rd= random_downsampling(teapot, int(len(teapot.points)/10 * 2))\n",
    "icp_algorithm(teapot, teapot_rd) # nehme ich hier bei beiden die gedownsamplete Punktewolke?\n",
    "#RegistrationResult with fitness=7.348961e-01, inlier_rmse=2.310666e-04, and correspondence_set size of 9123\n",
    "# voxel grid filter\n",
    "teapot_voxel_grid = create_voxel_grid(teapot, 0.2)\n",
    "teapot_voxel_pc = o3d.geometry.PointCloud()\n",
    "teapot_voxel_pc.points = voxel_filter(teapot, teapot_voxel_grid,0.2)\n",
    "icp_algorithm(teapot_voxel_pc,teapot)\n",
    "#egistrationResult with fitness=6.467433e-01, inlier_rmse=7.301364e-04, and correspondence_set size of 844\n",
    "# farthest point downsampling\n",
    "teapot_fp = farthest_point_sampling(teapot,int(len(teapot.points)/10 * 4))\n",
    "teapot_fp_pc = o3d.geometry.PointCloud()\n",
    "teapot_fp_pc.points = o3d.utility.Vector3dVector(np.asarray(teapot_fp.points))\n",
    "icp_algorithm(teapot, teapot_fp_pc)\n",
    "#RegistrationResult with fitness=1.000000e+00, inlier_rmse=0.000000e+00, and correspondence_set size of 12414"
   ],
   "id": "94ecfbb187699953",
   "outputs": [
    {
     "name": "stdout",
     "output_type": "stream",
     "text": [
      "[Open3D WARNING] GLFW Error: WGL: Failed to make context current: Das Handle ist ungültig. \n",
      "[Open3D WARNING] GLFW Error: WGL: Failed to make context current: Der angeforderte Transformationsvorgang wird nicht unterstützt. \n",
      "[Open3D WARNING] GLFW Error: WGL: Failed to make context current: Der angeforderte Transformationsvorgang wird nicht unterstützt. \n",
      "[Open3D WARNING] GLFW Error: WGL: Failed to make context current: Der angeforderte Transformationsvorgang wird nicht unterstützt. \n",
      "RegistrationResult with fitness=7.348961e-01, inlier_rmse=2.310666e-04, and correspondence_set size of 9123\n",
      "Access transformation to get result.\n",
      "[Open3D WARNING] GLFW Error: WGL: Failed to make context current: Der angeforderte Transformationsvorgang wird nicht unterstützt. \n",
      "RegistrationResult with fitness=6.467433e-01, inlier_rmse=7.301364e-04, and correspondence_set size of 844\n",
      "Access transformation to get result.\n",
      "[Open3D WARNING] GLFW Error: WGL: Failed to make context current: Der angeforderte Transformationsvorgang wird nicht unterstützt. \n",
      "[Open3D WARNING] GLFW Error: WGL: Failed to make context current: Der angeforderte Transformationsvorgang wird nicht unterstützt. \n",
      "RegistrationResult with fitness=1.000000e+00, inlier_rmse=0.000000e+00, and correspondence_set size of 12414\n",
      "Access transformation to get result.\n"
     ]
    }
   ],
   "execution_count": 33
  },
  {
   "metadata": {},
   "cell_type": "markdown",
   "source": "Cube",
   "id": "abd0642e0e25ed56"
  },
  {
   "metadata": {
    "ExecuteTime": {
     "end_time": "2024-06-05T06:53:46.843675Z",
     "start_time": "2024-06-05T06:53:30.234946Z"
    }
   },
   "cell_type": "code",
   "source": [
    "visualize_model(cube)\n",
    "# random downsampling\n",
    "cube_rd= random_downsampling(cube, int(len(cube.points)/10 * 4))\n",
    "icp_algorithm(cube, cube_rd) # nehme ich hier bei beiden die gedownsamplete Punktewolke?\n",
    "#RegistrationResult with fitness=4.000000e-01, inlier_rmse=0.000000e+00, and correspondence_set size of 166\n",
    "# voxel grid filter\n",
    "cube_voxel_grid = create_voxel_grid(cube, 0.2)\n",
    "cube_voxel_pc = o3d.geometry.PointCloud()\n",
    "cube_voxel_pc.points = voxel_filter(cube, cube_voxel_grid,0.2)\n",
    "icp_algorithm(cube_voxel_pc,cube)\n",
    "#RegistrationResult with fitness=1.000000e+00, inlier_rmse=0.000000e+00, and correspondence_set size of 415\n",
    "# farthest point downsampling\n",
    "cube_fp = farthest_point_sampling(cube,int(len(cube.points)/10 * 4))\n",
    "cube_fp_pc = o3d.geometry.PointCloud()\n",
    "cube_fp_pc.points = o3d.utility.Vector3dVector(np.asarray(cube_fp.points))\n",
    "icp_algorithm(cube, cube_fp_pc)\n",
    "#RegistrationResult with fitness=4.000000e-01, inlier_rmse=0.000000e+00, and correspondence_set size of 166"
   ],
   "id": "6cccabad7cfa5303",
   "outputs": [
    {
     "name": "stdout",
     "output_type": "stream",
     "text": [
      "RegistrationResult with fitness=4.000000e-01, inlier_rmse=0.000000e+00, and correspondence_set size of 166\n",
      "Access transformation to get result.\n",
      "[Open3D WARNING] GLFW Error: WGL: Failed to make context current: Das Handle ist ungültig. \n",
      "RegistrationResult with fitness=1.000000e+00, inlier_rmse=0.000000e+00, and correspondence_set size of 415\n",
      "Access transformation to get result.\n",
      "RegistrationResult with fitness=4.000000e-01, inlier_rmse=0.000000e+00, and correspondence_set size of 166\n",
      "Access transformation to get result.\n"
     ]
    }
   ],
   "execution_count": 34
  },
  {
   "metadata": {},
   "cell_type": "markdown",
   "source": "Complex Cube",
   "id": "2ffebe5db67beab4"
  },
  {
   "metadata": {
    "ExecuteTime": {
     "end_time": "2024-06-05T07:05:36.111177Z",
     "start_time": "2024-06-05T06:55:12.737098Z"
    }
   },
   "cell_type": "code",
   "source": [
    "visualize_model(complex_cube)\n",
    "# Random Downsampling\n",
    "complex_cube_rd= random_downsampling(complex_cube, int(len(complex_cube.points)/10 * 2))\n",
    "icp_algorithm(complex_cube, complex_cube_rd) # nehme ich hier bei beiden die gedownsamplete Punktewolke?\n",
    "#RegistrationResult with fitness=1.999208e-01, inlier_rmse=0.000000e+00, and correspondence_set size of 1514\n",
    "# voxel grid filter\n",
    "complex_cube_voxel_grid = create_voxel_grid(complex_cube, 0.2)\n",
    "complex_cube_voxel_pc = o3d.geometry.PointCloud()\n",
    "complex_cube_voxel_pc.points = voxel_filter(complex_cube, complex_cube_voxel_grid,0.2)\n",
    "icp_algorithm(complex_cube_voxel_pc,complex_cube)\n",
    "#RegistrationResult with fitness=1.000000e+00, inlier_rmse=0.000000e+00, and correspondence_set size of 7566\n",
    "# farthest point downsampling\n",
    "complex_cube_fp = farthest_point_sampling(complex_cube,int(len(complex_cube.points)/10 * 4))\n",
    "complex_cube_fp_pc = o3d.geometry.PointCloud()\n",
    "complex_cube_fp_pc.points = o3d.utility.Vector3dVector(np.asarray(complex_cube_fp.points))\n",
    "icp_algorithm(complex_cube, complex_cube_fp_pc)\n",
    "#RegistrationResult with fitness=3.999736e-01, inlier_rmse=0.000000e+00, and correspondence_set size of 3029"
   ],
   "id": "dc6b42063e17bc2",
   "outputs": [
    {
     "name": "stdout",
     "output_type": "stream",
     "text": [
      "RegistrationResult with fitness=1.999208e-01, inlier_rmse=0.000000e+00, and correspondence_set size of 1514\n",
      "Access transformation to get result.\n",
      "RegistrationResult with fitness=1.000000e+00, inlier_rmse=0.000000e+00, and correspondence_set size of 7566\n",
      "Access transformation to get result.\n",
      "[Open3D WARNING] GLFW Error: WGL: Failed to make context current: Das Handle ist ungültig. \n",
      "RegistrationResult with fitness=3.999736e-01, inlier_rmse=0.000000e+00, and correspondence_set size of 3029\n",
      "Access transformation to get result.\n"
     ]
    }
   ],
   "execution_count": 36
  },
  {
   "metadata": {},
   "cell_type": "markdown",
   "source": "Book",
   "id": "1ca6b918f45787e0"
  },
  {
   "metadata": {
    "ExecuteTime": {
     "end_time": "2024-06-05T07:24:14.604841Z",
     "start_time": "2024-06-05T07:05:50.725454Z"
    }
   },
   "cell_type": "code",
   "source": [
    "visualize_model(book)\n",
    "# Random Downsampling\n",
    "book_rd= random_downsampling(book, int(len(book.points)/10 * 2))\n",
    "icp_algorithm(book, book_rd) # nehme ich hier bei beiden die gedownsamplete Punktewolke?\n",
    "#RegistrationResult with fitness=2.000058e-01, inlier_rmse=4.281361e-05, and correspondence_set size of 27746\n",
    "# voxel grid filter\n",
    "book_voxel_grid = create_voxel_grid(book, 0.2)\n",
    "book_voxel_pc = o3d.geometry.PointCloud()\n",
    "book_voxel_pc.points = voxel_filter(book, book_voxel_grid,0.2)\n",
    "icp_algorithm(book_voxel_pc,book)\n",
    "#RegistrationResult with fitness=1.000000e+00, inlier_rmse=0.000000e+00, and correspondence_set size of 1220\n",
    "# farthest point downsampling\n",
    "book_fp = farthest_point_sampling(book,int(len(book.points)/10 * 4))\n",
    "book_fp_pc = o3d.geometry.PointCloud()\n",
    "book_fp_pc.points = o3d.utility.Vector3dVector(np.asarray(book_fp.points))\n",
    "icp_algorithm(book, book_fp_pc)"
   ],
   "id": "6f80c7a06349ff6b",
   "outputs": [
    {
     "name": "stdout",
     "output_type": "stream",
     "text": [
      "RegistrationResult with fitness=2.000058e-01, inlier_rmse=4.281361e-05, and correspondence_set size of 27746\n",
      "Access transformation to get result.\n"
     ]
    },
    {
     "ename": "KeyboardInterrupt",
     "evalue": "",
     "output_type": "error",
     "traceback": [
      "\u001B[1;31m---------------------------------------------------------------------------\u001B[0m",
      "\u001B[1;31mKeyboardInterrupt\u001B[0m                         Traceback (most recent call last)",
      "Cell \u001B[1;32mIn[37], line 8\u001B[0m\n\u001B[0;32m      6\u001B[0m book_voxel_grid \u001B[38;5;241m=\u001B[39m create_voxel_grid(book, \u001B[38;5;241m0.2\u001B[39m)\n\u001B[0;32m      7\u001B[0m book_voxel_pc \u001B[38;5;241m=\u001B[39m o3d\u001B[38;5;241m.\u001B[39mgeometry\u001B[38;5;241m.\u001B[39mPointCloud()\n\u001B[1;32m----> 8\u001B[0m book_voxel_pc\u001B[38;5;241m.\u001B[39mpoints \u001B[38;5;241m=\u001B[39m \u001B[43mvoxel_filter\u001B[49m\u001B[43m(\u001B[49m\u001B[43mbook\u001B[49m\u001B[43m,\u001B[49m\u001B[43m \u001B[49m\u001B[43mbook_voxel_grid\u001B[49m\u001B[43m,\u001B[49m\u001B[38;5;241;43m0.2\u001B[39;49m\u001B[43m)\u001B[49m\n\u001B[0;32m      9\u001B[0m icp_algorithm(book_voxel_pc,book)\n\u001B[0;32m     10\u001B[0m \u001B[38;5;66;03m#RegistrationResult with fitness=1.000000e+00, inlier_rmse=0.000000e+00, and correspondence_set size of 1220\u001B[39;00m\n\u001B[0;32m     11\u001B[0m \u001B[38;5;66;03m# farthest point downsampling\u001B[39;00m\n",
      "Cell \u001B[1;32mIn[18], line 28\u001B[0m, in \u001B[0;36mvoxel_filter\u001B[1;34m(model, voxelgrid, voxel_size)\u001B[0m\n\u001B[0;32m     25\u001B[0m \u001B[38;5;66;03m# iterate over all voxel in the voxelgrid\u001B[39;00m\n\u001B[0;32m     26\u001B[0m \u001B[38;5;28;01mfor\u001B[39;00m voxel \u001B[38;5;129;01min\u001B[39;00m voxelgrid\u001B[38;5;241m.\u001B[39mget_voxels():\n\u001B[0;32m     27\u001B[0m     \u001B[38;5;66;03m# get bounds of the voxel\u001B[39;00m\n\u001B[1;32m---> 28\u001B[0m     downsampled_points\u001B[38;5;241m.\u001B[39mextend(\u001B[43mis_point_in_voxel\u001B[49m\u001B[43m(\u001B[49m\u001B[43mmodel\u001B[49m\u001B[43m,\u001B[49m\u001B[43m \u001B[49m\u001B[43mvoxelgrid\u001B[49m\u001B[43m,\u001B[49m\u001B[43m \u001B[49m\u001B[43mvoxel\u001B[49m\u001B[43m,\u001B[49m\u001B[43m \u001B[49m\u001B[43mvoxel_size\u001B[49m\u001B[43m)\u001B[49m)\n\u001B[0;32m     29\u001B[0m downsampled_points \u001B[38;5;241m=\u001B[39m np\u001B[38;5;241m.\u001B[39masarray(downsampled_points)\n\u001B[0;32m     30\u001B[0m \u001B[38;5;28;01mreturn\u001B[39;00m o3d\u001B[38;5;241m.\u001B[39mutility\u001B[38;5;241m.\u001B[39mVector3dVector(downsampled_points)\n",
      "Cell \u001B[1;32mIn[18], line 49\u001B[0m, in \u001B[0;36mis_point_in_voxel\u001B[1;34m(model, voxelgrid, voxel, voxel_size)\u001B[0m\n\u001B[0;32m     47\u001B[0m \u001B[38;5;66;03m# Überprüfe, welche Punkte innerhalb des Voxels liegen\u001B[39;00m\n\u001B[0;32m     48\u001B[0m \u001B[38;5;28;01mfor\u001B[39;00m point \u001B[38;5;129;01min\u001B[39;00m model\u001B[38;5;241m.\u001B[39mpoints:\n\u001B[1;32m---> 49\u001B[0m     \u001B[38;5;28;01mif\u001B[39;00m \u001B[43mnp\u001B[49m\u001B[38;5;241;43m.\u001B[39;49m\u001B[43mall\u001B[49m\u001B[43m(\u001B[49m\u001B[43mnp\u001B[49m\u001B[38;5;241;43m.\u001B[39;49m\u001B[43mabs\u001B[49m\u001B[43m(\u001B[49m\u001B[43mpoint\u001B[49m\u001B[43m \u001B[49m\u001B[38;5;241;43m-\u001B[39;49m\u001B[43m \u001B[49m\u001B[43mvoxel_center\u001B[49m\u001B[43m)\u001B[49m\u001B[43m \u001B[49m\u001B[38;5;241;43m<\u001B[39;49m\u001B[38;5;241;43m=\u001B[39;49m\u001B[43m \u001B[49m\u001B[43mhalf_size\u001B[49m\u001B[43m)\u001B[49m:\n\u001B[0;32m     50\u001B[0m         points_in_voxel\u001B[38;5;241m.\u001B[39mappend(point)\n\u001B[0;32m     51\u001B[0m points_in_voxel \u001B[38;5;241m=\u001B[39m aggregate_points(points_in_voxel)\n",
      "\u001B[1;31mKeyboardInterrupt\u001B[0m: "
     ]
    }
   ],
   "execution_count": 37
  },
  {
   "metadata": {},
   "cell_type": "markdown",
   "source": "Cone",
   "id": "1e2cc3ed17b774dd"
  },
  {
   "metadata": {},
   "cell_type": "code",
   "source": [
    "visualize_model(cone)\n",
    "cone_rd= random_downsampling(cone, int(len(cone.points)/10 * 2))\n",
    "#sphere_rd = point_cloud_to_ply(sphere_rd_pc, \"sphere_rd.ply\")\n",
    "icp_algorithm(cone, cone_rd) # nehme ich hier bei beiden die gedownsamplete Punktewolke?\n",
    "\n",
    "# voxel grid filter\n",
    "cone_voxel_grid = create_voxel_grid(cone, 0.2)\n",
    "cone_voxel_pc = o3d.geometry.PointCloud()\n",
    "cone_voxel_pc.points = voxel_filter(cone, cone_voxel_grid,0.2)\n",
    "icp_algorithm(cone_voxel_pc,cone)\n",
    "#RegistrationResult with fitness=1.000000e+00, inlier_rmse=0.000000e+00, and correspondence_set size of 1220\n",
    "# farthest point downsampling\n",
    "cone_fp = farthest_point_sampling(cone,int(len(cone.points)/10 * 4))\n",
    "cone_fp_pc = o3d.geometry.PointCloud()\n",
    "cone_fp_pc.points = o3d.utility.Vector3dVector(np.asarray(cone_fp.points))\n",
    "icp_algorithm(cone, cone_fp_pc)"
   ],
   "id": "b1e61564b25655b9",
   "outputs": [],
   "execution_count": null
  },
  {
   "metadata": {},
   "cell_type": "markdown",
   "source": "Complex Cone",
   "id": "ec5feb99c3f7de53"
  },
  {
   "metadata": {},
   "cell_type": "code",
   "source": [
    "visualize_model(complex_cone)\n",
    "complex_cone_rd= random_downsampling(complex_cone, int(len(complex_cone.points)/10 * 2))\n",
    "icp_algorithm(complex_cone, complex_cone_rd) # nehme ich hier bei beiden die gedownsamplete Punktewolke?\n",
    "\n",
    "# voxel grid filter\n",
    "complex_cone_voxel_grid = create_voxel_grid(complex_cone, 0.2)\n",
    "complex_cone_voxel_pc = o3d.geometry.PointCloud()\n",
    "complex_cone_voxel_pc.points = voxel_filter(complex_cone, complex_cone_voxel_grid,0.2)\n",
    "icp_algorithm(complex_cone_voxel_pc,complex_cone)\n",
    "#RegistrationResult with fitness=1.000000e+00, inlier_rmse=0.000000e+00, and correspondence_set size of 1220\n",
    "# farthest point downsampling\n",
    "complex_cone_fp = farthest_point_sampling(complex_cone,int(len(complex_cone.points)/10 * 4))\n",
    "complex_cone_fp_pc = o3d.geometry.PointCloud()\n",
    "complex_cone_fp_pc.points = o3d.utility.Vector3dVector(np.asarray(complex_cone_fp.points))\n",
    "icp_algorithm(complex_cone, complex_cone_fp_pc)"
   ],
   "id": "1563a18c71627b21",
   "outputs": [],
   "execution_count": null
  },
  {
   "metadata": {},
   "cell_type": "markdown",
   "source": "Pencil",
   "id": "372002a393092b3e"
  },
  {
   "metadata": {},
   "cell_type": "code",
   "source": [
    "visualize_model(pencil)\n",
    "pencil_rd= random_downsampling(pencil, int(len(pencil.points)/10 * 2))\n",
    "icp_algorithm(pencil, pencil_rd) # nehme ich hier bei beiden die gedownsamplete Punktewolke?\n",
    "# voxel grid filter\n",
    "pencil_voxel_grid = create_voxel_grid(pencil, 0.2)\n",
    "pencil_voxel_pc = o3d.geometry.PointCloud()\n",
    "pencil_voxel_pc.points = voxel_filter(pencil, pencil_voxel_grid,0.2)\n",
    "icp_algorithm(pencil_voxel_pc,pencil)\n",
    "#RegistrationResult with fitness=1.000000e+00, inlier_rmse=0.000000e+00, and correspondence_set size of 1220\n",
    "# farthest point downsampling\n",
    "pencil_fp = farthest_point_sampling(pencil,int(len(pencil.points)/10 * 4))\n",
    "pencil_fp_pc = o3d.geometry.PointCloud()\n",
    "pencil_fp_pc.points = o3d.utility.Vector3dVector(np.asarray(pencil_fp.points))\n",
    "icp_algorithm(pencil, pencil_fp_pc)"
   ],
   "id": "8701ea8f4a19301a",
   "outputs": [],
   "execution_count": null
  },
  {
   "metadata": {
    "ExecuteTime": {
     "end_time": "2024-06-05T08:09:00.219667Z",
     "start_time": "2024-06-05T07:41:35.075894Z"
    }
   },
   "cell_type": "code",
   "source": [
    "# create noisy pointclouds\n",
    "noisy_sphere = add_noise(sphere,1.3)\n",
    "visualize_model(noisy_sphere)\n",
    "visualize_model(random_downsampling(noisy_sphere,int(len(noisy_sphere.points)/10 * 4)))\n",
    "\n",
    "noisy_complex_sphere =add_noise(complex_sphere,1.3)\n",
    "visualize_model(noisy_complex_sphere)\n",
    "visualize_model(random_downsampling(noisy_complex_sphere,int(len(noisy_complex_sphere.points)/10 * 4)))\n",
    "\n",
    "\n",
    "noisy_teapot = add_noise(teapot,0.1)\n",
    "visualize_model(noisy_teapot)\n",
    "visualize_model(random_downsampling(noisy_teapot, int(len(teapot.points)/10 * 4)))\n",
    "\n",
    "\n",
    "# voxel grid filter\n",
    "noisy_sphere_grid = create_voxel_grid(noisy_sphere, 0.2)\n",
    "noisy_sphere_voxel_pc = o3d.geometry.PointCloud()\n",
    "noisy_sphere_voxel_pc.points = voxel_filter(noisy_sphere, noisy_sphere_grid,0.2)\n",
    "\n",
    "noisy_complex_sphere_grid = create_voxel_grid(noisy_complex_sphere, 0.2)\n",
    "noisy_sphere_voxel_pc = o3d.geometry.PointCloud()\n",
    "noisy_sphere_voxel_pc.points = voxel_filter(noisy_complex_sphere, noisy_complex_sphere_grid,0.2)\n",
    "\n",
    "noisy_teapot_grid = create_voxel_grid(noisy_teapot, 0.2)\n",
    "noisy_teapot_voxel_pc = o3d.geometry.PointCloud()\n",
    "noisy_teapot_voxel_pc.points = voxel_filter(noisy_teapot, noisy_teapot_grid,0.2)\n",
    "\n",
    "# farthest point downsampling\n",
    "noisy_sphere_fp = farthest_point_sampling(noisy_sphere,int(len(noisy_sphere.points)/10 * 4))\n",
    "noisy_sphere_fp_pc = o3d.geometry.PointCloud()\n",
    "noisy_sphere_fp_pc.points = o3d.utility.Vector3dVector(np.asarray(noisy_sphere_fp.points))\n",
    "visualize_model(noisy_sphere_fp_pc)\n",
    "\n",
    "noisy_complex_sphere_fp = farthest_point_sampling(noisy_complex_sphere,int(len(noisy_complex_sphere.points)/10 * 4))\n",
    "noisy_complex_sphere_fp_pc = o3d.geometry.PointCloud()\n",
    "noisy_complex_sphere_fp_pc.points = o3d.utility.Vector3dVector(np.asarray(noisy_complex_sphere_fp.points))\n",
    "visualize_model(noisy_complex_sphere_fp_pc)\n",
    "\n",
    "noisy_teapot_fp = farthest_point_sampling(noisy_teapot,int(len(noisy_teapot.points)/10 * 4))\n",
    "noisy_teapot_fp_pc = o3d.geometry.PointCloud()\n",
    "noisy_teapot_fp_pc.points = o3d.utility.Vector3dVector(np.asarray(noisy_teapot_fp.points))\n",
    "visualize_model(noisy_teapot_fp_pc)"
   ],
   "id": "8d66fc758daa7984",
   "outputs": [],
   "execution_count": 48
  },
  {
   "metadata": {},
   "cell_type": "markdown",
   "source": "",
   "id": "a13a509dd712e465"
  }
 ],
 "metadata": {
  "kernelspec": {
   "display_name": "Python 3",
   "language": "python",
   "name": "python3"
  },
  "language_info": {
   "codemirror_mode": {
    "name": "ipython",
    "version": 2
   },
   "file_extension": ".py",
   "mimetype": "text/x-python",
   "name": "python",
   "nbconvert_exporter": "python",
   "pygments_lexer": "ipython2",
   "version": "2.7.6"
  }
 },
 "nbformat": 4,
 "nbformat_minor": 5
}
