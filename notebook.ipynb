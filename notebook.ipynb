{
 "cells": [
  {
   "cell_type": "code",
   "id": "initial_id",
   "metadata": {
    "collapsed": true,
    "ExecuteTime": {
     "end_time": "2024-05-28T14:24:00.294717Z",
     "start_time": "2024-05-28T14:23:54.220715Z"
    }
   },
   "source": [
    "#Imports\n",
    "from io import BytesIO\n",
    "import os\n",
    "import open3d as o3d\n",
    "import random\n",
    "import requests\n",
    "import tarfile\n",
    "import numpy as np\n",
    "from scipy.spatial import distance\n",
    "from scipy.spatial.distance import cdist, pdist, squareform"
   ],
   "outputs": [
    {
     "name": "stdout",
     "output_type": "stream",
     "text": [
      "Jupyter environment detected. Enabling Open3D WebVisualizer.\n",
      "[Open3D INFO] WebRTC GUI backend enabled.\n",
      "[Open3D INFO] WebRTCWindowSystem: HTTP handshake server disabled.\n"
     ]
    }
   ],
   "execution_count": 2
  },
  {
   "metadata": {
    "ExecuteTime": {
     "end_time": "2024-05-28T14:24:01.237374Z",
     "start_time": "2024-05-28T14:24:01.227222Z"
    }
   },
   "cell_type": "code",
   "source": [
    "def gromov_wasserstein(pc1: np.ndarray, pc2: np.ndarray) -> float:\n",
    "    def dist_ecc_fast(ecc, u):\n",
    "        return (np.mean(ecc <= u))\n",
    "\n",
    "    out = 0\n",
    "    # Konvertiere die Punktwolken in NumPy-Arrays\n",
    "    pc1 = np.asarray(pc1.points)\n",
    "    pc2 = np.asarray(pc2.points)\n",
    "\n",
    "    # Reshape input matrices if necessary\n",
    "    if pc1.ndim == 1:\n",
    "        pc1 = pc1.reshape(-1, 1)\n",
    "    if pc2.ndim == 1:\n",
    "        pc2 = pc2.reshape(-1, 1)\n",
    "\n",
    "    ecc1 = squareform(pdist(pc1)).mean(0)\n",
    "    ecc2 = squareform(pdist(pc2)).mean(0)\n",
    "    unique_ecc = np.unique(np.concatenate((ecc1, ecc2)))\n",
    "    for i in range(unique_ecc.shape[0] - 1):\n",
    "        u = unique_ecc[i]\n",
    "        out += (unique_ecc[i + 1] - unique_ecc[i]) * np.abs(dist_ecc_fast(ecc1, u) - dist_ecc_fast(ecc2, u))\n",
    "\n",
    "    return (0.5 * out)"
   ],
   "id": "7e1568af12c11b07",
   "outputs": [],
   "execution_count": 3
  },
  {
   "metadata": {
    "ExecuteTime": {
     "end_time": "2024-05-23T14:41:51.426166Z",
     "start_time": "2024-05-23T14:41:51.413716Z"
    }
   },
   "cell_type": "code",
   "source": [
    "def chamfer_distance(pc1: np.ndarray, pc2: np.ndarray) -> float:\n",
    "    dist = cdist(pc1, pc2)\n",
    "    ch_dist = (np.min(dist, axis=1).mean() + np.min(dist, axis=0).mean()) / 2\n",
    "    return ch_dist"
   ],
   "id": "d94821b1effd38a5",
   "outputs": [],
   "execution_count": 4
  },
  {
   "metadata": {
    "ExecuteTime": {
     "end_time": "2024-05-28T14:24:07.418070Z",
     "start_time": "2024-05-28T14:24:07.408034Z"
    }
   },
   "cell_type": "code",
   "source": [
    "def average_ratio(pc1: np.ndarray, pc2: np.ndarray, Dist_list: list) -> float:\n",
    "    d = cdist(pc1, pc2)\n",
    "    d0 = d.min(0)\n",
    "    d1 = d.min(1)\n",
    "\n",
    "    avr = 0\n",
    "    for i, dist in enumerate(Dist_list):\n",
    "        avr += (i + 1) * ((d1 <= dist).sum() / pc1.shape[0] + (d0 <= dist).sum() / pc2.shape[0])\n",
    "    return avr / (len(Dist_list) ** 2 + len(Dist_list))"
   ],
   "id": "53c1b50f63af67ab",
   "outputs": [],
   "execution_count": 4
  },
  {
   "metadata": {
    "ExecuteTime": {
     "end_time": "2024-05-23T14:41:55.646420Z",
     "start_time": "2024-05-23T14:41:55.632976Z"
    }
   },
   "cell_type": "code",
   "source": [
    "def ratio(pc1: np.ndarray, pc2: np.ndarray, thr_list=np.array([0.1, 0.5, 1, 2, 4])) -> list:\n",
    "    d = np.min(cdist(pc1, pc2), axis=1)\n",
    "    r = (d <= thr_list[:, None]).mean(1)\n",
    "    return thr_list, r"
   ],
   "id": "a56b738a09705256",
   "outputs": [],
   "execution_count": 6
  },
  {
   "metadata": {
    "ExecuteTime": {
     "end_time": "2024-05-28T14:24:15.805235Z",
     "start_time": "2024-05-28T14:24:15.791146Z"
    }
   },
   "cell_type": "code",
   "source": [
    "def create_pcd_from_mesh(mesh):\n",
    "    mesh.compute_vertex_normals()\n",
    "    o3d.visualization.draw_geometries([mesh])\n",
    "    # distribute dots evenly on the surface\n",
    "    return mesh.sample_points_uniformly(500)"
   ],
   "id": "77f3497eebb98499",
   "outputs": [],
   "execution_count": 5
  },
  {
   "metadata": {
    "ExecuteTime": {
     "end_time": "2024-05-28T14:24:17.999854Z",
     "start_time": "2024-05-28T14:24:17.977363Z"
    }
   },
   "cell_type": "code",
   "source": [
    "def load_model(link, path):\n",
    "    # http://ycb-benchmarks.s3-website-us-east-1.amazonaws.com/\n",
    "    response = requests.get(link)\n",
    "    tgz_data = BytesIO(response.content)\n",
    "    # set the current working directory to the script's directory\n",
    "    script_directory = os.path.dirname(os.path.abspath(__file__))\n",
    "    os.chdir(script_directory)\n",
    "    with tarfile.open(fileobj=tgz_data, mode=\"r:gz\") as tar_ref:\n",
    "        tar_ref.extractall(script_directory)\n",
    "    # join paths\n",
    "    model_path = os.path.join(script_directory, path, \"clouds\", \"merged_cloud.ply\")\n",
    "    # load pointcloud\n",
    "    pcd = o3d.io.read_point_cloud(model_path)\n",
    "    return pcd"
   ],
   "id": "7a14771974f89559",
   "outputs": [],
   "execution_count": 6
  },
  {
   "metadata": {
    "ExecuteTime": {
     "end_time": "2024-05-28T14:24:19.592154Z",
     "start_time": "2024-05-28T14:24:19.580923Z"
    }
   },
   "cell_type": "code",
   "source": [
    "def load_cad_model(model):\n",
    "    # load model generated in freecad\n",
    "    return o3d.io.read_point_cloud(model)"
   ],
   "id": "268acea18c088fe8",
   "outputs": [],
   "execution_count": 7
  },
  {
   "metadata": {
    "ExecuteTime": {
     "end_time": "2024-05-28T14:24:20.088121Z",
     "start_time": "2024-05-28T14:24:20.071159Z"
    }
   },
   "cell_type": "code",
   "source": [
    "def visualize_model(model):\n",
    "    o3d.visualization.draw_geometries([model])"
   ],
   "id": "a6cb10deb5b2cada",
   "outputs": [],
   "execution_count": 8
  },
  {
   "metadata": {
    "ExecuteTime": {
     "end_time": "2024-05-28T14:24:20.583231Z",
     "start_time": "2024-05-28T14:24:20.571656Z"
    }
   },
   "cell_type": "code",
   "source": [
    "def get_num_points(model):\n",
    "    print(len(model.points))"
   ],
   "id": "b24f412aa7c9f798",
   "outputs": [],
   "execution_count": 9
  },
  {
   "metadata": {
    "ExecuteTime": {
     "end_time": "2024-05-28T14:24:21.184531Z",
     "start_time": "2024-05-28T14:24:21.174027Z"
    }
   },
   "cell_type": "code",
   "source": [
    "def create_pointcloud_from_coordinates(coordinates):\n",
    "    # create point cloud with coordinates\n",
    "    pcd = o3d.geometry.PointCloud()\n",
    "    pcd.points = o3d.utility.Vector3dVector(coordinates)\n",
    "    return pcd"
   ],
   "id": "9d07c2e658e06523",
   "outputs": [],
   "execution_count": 10
  },
  {
   "metadata": {
    "ExecuteTime": {
     "end_time": "2024-05-28T14:24:21.988833Z",
     "start_time": "2024-05-28T14:24:21.976029Z"
    }
   },
   "cell_type": "code",
   "source": [
    "def get_coordinates(model):\n",
    "    coordinates = [list(point) for point in model.points]\n",
    "    # print(coordinates[:50])\n",
    "    return coordinates"
   ],
   "id": "dcdc0ec299624eba",
   "outputs": [],
   "execution_count": 11
  },
  {
   "metadata": {
    "ExecuteTime": {
     "end_time": "2024-05-28T14:24:23.232756Z",
     "start_time": "2024-05-28T14:24:23.220328Z"
    }
   },
   "cell_type": "code",
   "source": [
    "def random_downsampling(model, endpoints):\n",
    "    # get coordinates of the models\n",
    "    coordinates = get_coordinates(model)\n",
    "    # select random points for downsampling\n",
    "    for i in range(len(coordinates) - endpoints):\n",
    "        rannumb = random.randint(0, len(coordinates) - 1)\n",
    "        del coordinates[rannumb]\n",
    "    return coordinates"
   ],
   "id": "2052f3d3ed6ad35a",
   "outputs": [],
   "execution_count": 12
  },
  {
   "metadata": {
    "ExecuteTime": {
     "end_time": "2024-05-28T14:24:24.131088Z",
     "start_time": "2024-05-28T14:24:24.119986Z"
    }
   },
   "cell_type": "code",
   "source": [
    "def farthest_point_sampling1(model, num_points_keep):\n",
    "    coordinates = np.array(get_coordinates(model))\n",
    "    retVal = []\n",
    "    # to make runs comparable\n",
    "    random.seed(13)\n",
    "    # generate \"random\" int\n",
    "    randint = random.randint(0, len(coordinates) - 1)\n",
    "    # select random point from model\n",
    "    retVal = np.append(retVal, coordinates[randint])\n",
    "    # delete chosen point from original model after it was added to the downsampled cloud\n",
    "    coordinates = np.delete(coordinates, randint, axis=0)\n",
    "    while len(retVal) < num_points_keep:\n",
    "        retValnp = np.array(retVal)\n",
    "        # berechne die Entfernungen der ausgewählten Punkte zu den ausgewählten Punkten\n",
    "        eucl_distances = distance.cdist(retValnp, coordinates, 'euclidean')\n",
    "        # finde den weitesten Punkt heraus\n",
    "        # füge den am weitesten entfernten Punkt der Liste hinzu\n",
    "        retVal = np.append(retValnp, np.max(eucl_distances, axis=0))\n",
    "        # punkt aus der Liste mit den ursprünglichen Koordinaten löschen\n",
    "        min_distance_index = np.argmax(eucl_distances)\n",
    "        coordinates = np.delete(coordinates, min_distance_index, axis=0)\n",
    "    return retVal"
   ],
   "id": "a527fbcc99f0beb9",
   "outputs": [],
   "execution_count": 13
  },
  {
   "metadata": {
    "ExecuteTime": {
     "end_time": "2024-05-28T14:24:26.513057Z",
     "start_time": "2024-05-28T14:24:26.503706Z"
    }
   },
   "cell_type": "code",
   "source": [
    "def farthest_point_sampling(model, num_points_keep):\n",
    "    coordinates = np.array(get_coordinates(model))\n",
    "    retVal = []\n",
    "    # to make runs comparable\n",
    "    random.seed(13)\n",
    "    # generate \"random\" int\n",
    "    randint = random.randint(0, len(coordinates) - 1)\n",
    "    # select random point from model\n",
    "    retVal.append(coordinates[randint])\n",
    "    # delete chosen point from original model after it was added to the downsampled cloud\n",
    "    coordinates = np.delete(coordinates, randint, axis=0)\n",
    "    while len(retVal) < num_points_keep:\n",
    "        # Berechne die euklidischen Distanzen der ausgewählten Punkte zu den verbleibenden Punkten\n",
    "        eucl_distances = distance.cdist(retVal, coordinates, 'euclidean')\n",
    "        # Finden Sie den Punkt mit der größten Mindestdistanz\n",
    "        min_mindist = np.min(eucl_distances, axis=0)\n",
    "        # Finden Sie den Index des Punktes mit der größten Mindestdistanz\n",
    "        max_min_distance_index = np.argmax(min_mindist)\n",
    "        # Fügen Sie den am weitesten entfernten Punkt der Liste hinzu\n",
    "        retVal.append(coordinates[max_min_distance_index])\n",
    "        # Entfernen Sie den ausgewählten Punkt aus den verbleibenden Koordinaten\n",
    "        coordinates = np.delete(coordinates, max_min_distance_index, axis=0)\n",
    "    return np.array(retVal)"
   ],
   "id": "c93a96564378e9f4",
   "outputs": [],
   "execution_count": 14
  },
  {
   "metadata": {
    "ExecuteTime": {
     "end_time": "2024-05-28T14:24:27.600938Z",
     "start_time": "2024-05-28T14:24:27.582201Z"
    }
   },
   "cell_type": "code",
   "source": [
    "# built in function von open3d?\n",
    "def radius_outlier_removal_call(model):\n",
    "    return model.remove_radiues_outlier(nb_points=5, radius=0.05)"
   ],
   "id": "42dd39bb15f7e3e1",
   "outputs": [],
   "execution_count": 15
  },
  {
   "metadata": {
    "ExecuteTime": {
     "end_time": "2024-05-28T14:24:28.481264Z",
     "start_time": "2024-05-28T14:24:28.456995Z"
    }
   },
   "cell_type": "code",
   "source": [
    "# with median -> aggregation method as parameter??\n",
    "def create_voxel_grid(model, voxel_size):\n",
    "    model_points = np.array(get_coordinates(model))\n",
    "    min_bound = np.min(model_points, axis=0)\n",
    "    max_bound = np.max(model_points, axis=0)\n",
    "\n",
    "    dimensions = np.ceil((max_bound - min_bound) / voxel_size).astype(int)\n",
    "\n",
    "    voxelgrid = np.zeros(dimensions)\n",
    "\n",
    "    for point in model_points:\n",
    "        voxel_coordinates = ((point - min_bound) / voxel_size).astype(int)\n",
    "        # -1 needed in order to avoid index out of bounds\n",
    "        voxelgrid[tuple(voxel_coordinates - 1)] += 1\n",
    "    # visualize voxel grid to check if its correct\n",
    "    # convert voxelgrid to open3d Voxelgrid\n",
    "    o3d_voxelgrid = o3d.geometry.VoxelGrid.create_from_point_cloud(input=model, voxel_size=voxel_size)\n",
    "    o3d.visualization.draw_geometries([o3d_voxelgrid])\n",
    "    return o3d_voxelgrid\n",
    "\n",
    "\n",
    "def voxel_filter(model, voxelgrid, voxel_size):\n",
    "    # list where downsampled points will be saved\n",
    "    downsampled_points = []\n",
    "    # iterate over all voxel in the voxelgrid\n",
    "    for voxel in voxelgrid.get_voxels():\n",
    "        # get bounds of the voxel\n",
    "        downsampled_points.extend(is_point_in_voxel(model, voxelgrid, voxel, voxel_size))\n",
    "    downsampled_points = np.asarray(downsampled_points)\n",
    "    return o3d.utility.Vector3dVector(downsampled_points)\n",
    "\n",
    "\n",
    "def aggregate_points(points):\n",
    "    # Aggregate the points by averaging, taking into account the z coordinate\n",
    "    if len(points) == 0:\n",
    "        return points\n",
    "    aggregated_points = []\n",
    "    aggregated_points.append(np.mean(points, axis=0))\n",
    "    return aggregated_points\n",
    "\n",
    "\n",
    "def is_point_in_voxel(model, voxelgrid, voxel, voxel_size):\n",
    "    # old idea: get the 8 bounding points of a voxel\n",
    "    # voxel_points = np.asarray(voxelgrid.get_voxel_bounding_points(voxel.grid_index))\n",
    "\n",
    "    # get center point and see whether a point lies within the given distance/2 of the voxel size from the center\n",
    "    voxel_center = voxelgrid.get_voxel_center_coordinate(voxel.grid_index)\n",
    "    points_in_voxel = []\n",
    "    half_size = voxel_size / 2.0\n",
    "    # Überprüfe, welche Punkte innerhalb des Voxels liegen\n",
    "    for point in model.points:\n",
    "        if np.all(np.abs(point - voxel_center) <= half_size):\n",
    "            points_in_voxel.append(point)\n",
    "    points_in_voxel = aggregate_points(points_in_voxel)\n",
    "    # print(points_in_voxel)\n",
    "    return points_in_voxel"
   ],
   "id": "d80e628c3ec6ce94",
   "outputs": [],
   "execution_count": 16
  },
  {
   "metadata": {
    "ExecuteTime": {
     "end_time": "2024-05-28T14:24:29.798725Z",
     "start_time": "2024-05-28T14:24:29.780900Z"
    }
   },
   "cell_type": "code",
   "source": [
    "def point_cloud_to_ply(point_cloud): \n",
    "    # get variable name of current point cloud model\n",
    "    file_name = [name for name in locals() if locals()[name] == point_cloud][0]\n",
    "    # safe downsampled point cloud as ply data\n",
    "    o3d.io.write_point_cloud(file_name, point_cloud)"
   ],
   "id": "efa529414d46c342",
   "outputs": [],
   "execution_count": 17
  },
  {
   "metadata": {
    "ExecuteTime": {
     "end_time": "2024-05-28T14:24:31.568155Z",
     "start_time": "2024-05-28T14:24:31.557376Z"
    }
   },
   "cell_type": "code",
   "source": [
    "import logging\n",
    "# Logging\n",
    "logging.basicConfig(filename='downsampling.log', level=logging.INFO, format='%(asctime)s - %(message)s')\n",
    "\n",
    "# Pfad zum Speichern der Bilder\n",
    "output_dir = 'point_cloud_images'\n",
    "os.makedirs(output_dir, exist_ok=True)\n",
    "#except Exception as e: logging.error(f'Iteration {i+1}: Fehler aufgetreten - {e}')"
   ],
   "id": "af108f8c60310f46",
   "outputs": [],
   "execution_count": 18
  },
  {
   "metadata": {
    "ExecuteTime": {
     "end_time": "2024-05-28T14:25:17.763036Z",
     "start_time": "2024-05-28T14:25:17.411572Z"
    }
   },
   "cell_type": "code",
   "source": [
    "# to do lege die Bilder mit relaitven Pfad im Repo an!\n",
    "cone = load_cad_model(r\"cone.ply\")\n",
    "sphere = load_cad_model(r\"sphere.ply\")\n",
    "cube = load_cad_model(r\"cube.ply\")\n",
    "hollow_cone = load_cad_model(r\"hollowCone.ply\")\n",
    "complex_sphere = load_cad_model(r\"complexSphere.ply\")\n",
    "pencil = load_cad_model(r\"pencil_fein.ply\")\n",
    "# source: https://sketchfab.com/3d-models/davis-teapot-materialcleanup-547971eaf21d43f2b6cfcb6be0e7bf11\n",
    "teapot = load_cad_model(r\"teapot.ply\")\n",
    "# source: https://sketchfab.com/3d-models/book-ba04f5ac66194341bc7d437fb6c94674\n",
    "book = load_cad_model(r\"book.ply\")"
   ],
   "id": "fb44a471c057b4a8",
   "outputs": [],
   "execution_count": 20
  },
  {
   "metadata": {
    "ExecuteTime": {
     "end_time": "2024-05-28T14:26:15.805337Z",
     "start_time": "2024-05-28T14:26:02.442740Z"
    }
   },
   "cell_type": "code",
   "source": "# Laufzeittests",
   "id": "a76bff8c2991f0fb",
   "outputs": [
    {
     "name": "stdout",
     "output_type": "stream",
     "text": [
      "[Open3D WARNING] GLFW Error: WGL: Failed to make context current: Der angeforderte Transformationsvorgang wird nicht unterstützt. \n",
      "[Open3D WARNING] GLFW Error: WGL: Failed to make context current: Der angeforderte Transformationsvorgang wird nicht unterstützt. \n",
      "[Open3D WARNING] GLFW Error: WGL: Failed to make context current: Der angeforderte Transformationsvorgang wird nicht unterstützt. \n",
      "[Open3D WARNING] GLFW Error: WGL: Failed to make context current: Der angeforderte Transformationsvorgang wird nicht unterstützt. \n",
      "[Open3D WARNING] GLFW Error: WGL: Failed to make context current: Das Handle ist ungültig. \n"
     ]
    }
   ],
   "execution_count": 21
  },
  {
   "metadata": {},
   "cell_type": "code",
   "outputs": [],
   "execution_count": null,
   "source": [
    "# Auswertung ICP\n",
    "# Transformiere die Ziel-Punktwolke zur besseren Demonstration\n",
    "# ich kann hier auch meine Matplotlib Implementierung verwenden!\n",
    "transformation = np.array([[0.86, 0.5, 0.1, 0.5],\n",
    "                           [-0.5, 0.86, 0.1, 0.5],\n",
    "                           [0.0, -0.1, 0.99, 0.5],\n",
    "                           [0.0, 0.0, 0.0, 1.0]])\n",
    "target.transform(transformation)\n",
    "\n",
    "# ICP-Algorithmus ausführen\n",
    "threshold = 0.02  # Maximale Entfernung für die Zuordnung von Punkten\n",
    "initial_transformation = np.identity(4)  # Initiale Schätzung der Transformation\n",
    "\n",
    "# Verwende Open3D's ICP-Funktion\n",
    "reg_p2p = o3d.pipelines.registration.registration_icp(\n",
    "    source, target, threshold, initial_transformation,\n",
    "    o3d.pipelines.registration.TransformationEstimationPointToPoint())\n"
   ],
   "id": "acbc5ea2a52a8d36"
  },
  {
   "metadata": {},
   "cell_type": "code",
   "outputs": [],
   "execution_count": null,
   "source": "# Auswertung der quantitativen Methoden",
   "id": "b0b94344107c5c49"
  },
  {
   "metadata": {},
   "cell_type": "code",
   "outputs": [],
   "execution_count": null,
   "source": [
    "import time\n",
    "\n",
    "#Test für Stabilität der Ergebnisse\n",
    "# Anzahl der Wiederholungen\n",
    "num_iterations = 20\n",
    "output_dir = 'point_cloud_images'\n",
    "os.makedirs(output_dir, exist_ok=True)\n",
    "\n",
    "model_array = [cone, cube,sphere, hollow_cone, complex_sphere, pencil, teapot, book]\n",
    "for i in range(model_array):\n",
    "    for i in num_iterations:\n",
    "        try:\n",
    "           # Zeitmessung starten\n",
    "           start_time = time.time()\n",
    "           # Methodenaufrufe\n",
    "           rd = random_downsampling(i, 200)\n",
    "           # Zeitmessung beenden\n",
    "           end_time = time.time()\n",
    "           #  verstrichene Zeit loggen\n",
    "           elapsed_time = end_time - start_time\n",
    "           # bei len muss dann noch die aktuell getestete Methode rein -> maybe noch die Ausgangsgröße der\n",
    "           # Punktewolke mitloggen?\n",
    "           logging.info(f'Iteration {i+1}: Downsampling durchgeführt, verbleibende Punkte: {len(rd)}, Rechenzeit: {elapsed_time:.4f} Sekunden')\n",
    "           # Bildspeicherung! -> nachschauen was durch das Reshapen hier passiert!\n",
    "           point_cloud_to_ply(rd)\n",
    "           #logging.info(f'Iteration {i+1}: Bild gespeichert als {image_path}')\n",
    "           \n",
    "        except Exception as e:\n",
    "            logging.error(f'Iteration {i+1}: Fehler aufgetreten - {e}')\n",
    "\n",
    "logging.info('Alle Iterationen abgeschlossen.')"
   ],
   "id": "a0fbbf3d64a4c6b5"
  },
  {
   "metadata": {},
   "cell_type": "markdown",
   "source": "",
   "id": "d81fa780ef2c4d46"
  }
 ],
 "metadata": {
  "kernelspec": {
   "display_name": "Python 3",
   "language": "python",
   "name": "python3"
  },
  "language_info": {
   "codemirror_mode": {
    "name": "ipython",
    "version": 2
   },
   "file_extension": ".py",
   "mimetype": "text/x-python",
   "name": "python",
   "nbconvert_exporter": "python",
   "pygments_lexer": "ipython2",
   "version": "2.7.6"
  }
 },
 "nbformat": 4,
 "nbformat_minor": 5
}
